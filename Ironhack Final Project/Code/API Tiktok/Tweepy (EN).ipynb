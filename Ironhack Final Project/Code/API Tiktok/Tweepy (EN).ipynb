{
 "cells": [
  {
   "cell_type": "markdown",
   "id": "49272dae",
   "metadata": {},
   "source": [
    "# Tweepy API"
   ]
  },
  {
   "cell_type": "markdown",
   "id": "61ec52ef",
   "metadata": {},
   "source": [
    "Scraping tweets (per brand) mentioning the different brands for the last five years (1/1/2018 to 1/1/2023). This will allow us to identify the user's perception of those in Social Media (Twitter)"
   ]
  },
  {
   "cell_type": "markdown",
   "id": "aefb0477",
   "metadata": {},
   "source": [
    "## 1 - Cerave"
   ]
  },
  {
   "cell_type": "code",
   "execution_count": 1,
   "id": "0dc082ca",
   "metadata": {},
   "outputs": [],
   "source": [
    "# Import libraries\n",
    "import snscrape.modules.twitter as sntwitter\n",
    "import pandas as pd"
   ]
  },
  {
   "cell_type": "code",
   "execution_count": 2,
   "id": "cf46c9d0",
   "metadata": {},
   "outputs": [
    {
     "name": "stderr",
     "output_type": "stream",
     "text": [
      "C:\\Users\\Angela\\AppData\\Local\\Temp\\ipykernel_15432\\920924845.py:12: FutureWarning: username is deprecated, use user.username instead\n",
      "  tweets.append([tweet.date, tweet.username, tweet.content])\n",
      "C:\\Users\\Angela\\AppData\\Local\\Temp\\ipykernel_15432\\920924845.py:12: FutureWarning: content is deprecated, use rawContent instead\n",
      "  tweets.append([tweet.date, tweet.username, tweet.content])\n"
     ]
    }
   ],
   "source": [
    "# For loop for obtaining tweets\n",
    "query = \"cerave lang:en until:2023-01-01 since:2020-01-01\"\n",
    "tweets = []\n",
    "limits = 20000\n",
    "\n",
    "for tweet in sntwitter.TwitterSearchScraper(query).get_items():\n",
    "    #print(vars(tweet))\n",
    "    #break\n",
    "    if len(tweets) == limits:\n",
    "        break\n",
    "    else:\n",
    "        tweets.append([tweet.date, tweet.username, tweet.content])\n",
    "        \n",
    "# limitar las palabras de busqueda"
   ]
  },
  {
   "cell_type": "code",
   "execution_count": 3,
   "id": "901647c9",
   "metadata": {},
   "outputs": [
    {
     "name": "stdout",
     "output_type": "stream",
     "text": [
      "                           Date             User  \\\n",
      "0     2022-12-31 23:36:46+00:00  lifeasa_HotMess   \n",
      "1     2022-12-31 23:04:26+00:00        maylyncoc   \n",
      "2     2022-12-31 22:48:22+00:00      PS5Restocks   \n",
      "3     2022-12-31 22:48:06+00:00          pluggrr   \n",
      "4     2022-12-31 21:54:02+00:00      FatKidDeals   \n",
      "...                         ...              ...   \n",
      "19995 2022-08-20 13:42:34+00:00       sarcastamy   \n",
      "19996 2022-08-20 13:30:03+00:00  ChefMimiSanchez   \n",
      "19997 2022-08-20 13:29:25+00:00           cerave   \n",
      "19998 2022-08-20 13:26:27+00:00           cerave   \n",
      "19999 2022-08-20 13:26:07+00:00     tolanitosyne   \n",
      "\n",
      "                                                   Tweet  \n",
      "0      CeraVe Eye Repair Cream | Under Eye Cream for ...  \n",
      "1      @IlluminateAest2 Thank you so much I am just s...  \n",
      "2      CeraVe SA Cleanser for $8!!\\n\\nhttps://t.co/Wd...  \n",
      "3      CeraVe SA Cleanser for $8!!\\n\\nhttps://t.co/IK...  \n",
      "4      CeraVe SA Cleanser for $8!\\n\\nhttps://t.co/o4x...  \n",
      "...                                                  ...  \n",
      "19995  @KendraWrites Me over here passing judgment wi...  \n",
      "19996  @cerave Sure did! I am actually about to resto...  \n",
      "19997  @ChefMimiSanchez We're so glad we could help y...  \n",
      "19998                         @MelanneyD We love it too!  \n",
      "19999  @Tbabz__ Someone just plugged me to the snail ...  \n",
      "\n",
      "[20000 rows x 3 columns]\n"
     ]
    }
   ],
   "source": [
    "df = pd.DataFrame(tweets, columns=['Date', 'User', 'Tweet'])\n",
    "print(df)\n",
    "\n",
    "# to save to csv\n",
    "df.to_csv('tweets_cerave.csv') # We get here 20k tweets for the last year mentioning the brand"
   ]
  },
  {
   "cell_type": "markdown",
   "id": "7ef1bbce",
   "metadata": {},
   "source": [
    "## 2 - Decleor"
   ]
  },
  {
   "cell_type": "code",
   "execution_count": 4,
   "id": "4b41277a",
   "metadata": {},
   "outputs": [
    {
     "name": "stderr",
     "output_type": "stream",
     "text": [
      "C:\\Users\\Angela\\AppData\\Local\\Temp\\ipykernel_15432\\1973454313.py:12: FutureWarning: username is deprecated, use user.username instead\n",
      "  tweets.append([tweet.date, tweet.username, tweet.content])\n",
      "C:\\Users\\Angela\\AppData\\Local\\Temp\\ipykernel_15432\\1973454313.py:12: FutureWarning: content is deprecated, use rawContent instead\n",
      "  tweets.append([tweet.date, tweet.username, tweet.content])\n"
     ]
    }
   ],
   "source": [
    "# For loop for obtaining tweets\n",
    "query = \"decleor lang:en until:2023-01-01 since:2020-01-01\"\n",
    "tweets = []\n",
    "limits = 20000\n",
    "\n",
    "for tweet in sntwitter.TwitterSearchScraper(query).get_items():\n",
    "    #print(vars(tweet))\n",
    "    #break\n",
    "    if len(tweets) == limits:\n",
    "        break\n",
    "    else:\n",
    "        tweets.append([tweet.date, tweet.username, tweet.content])"
   ]
  },
  {
   "cell_type": "code",
   "execution_count": 5,
   "id": "f46e27ef",
   "metadata": {},
   "outputs": [
    {
     "name": "stdout",
     "output_type": "stream",
     "text": [
      "                          Date             User  \\\n",
      "0    2022-12-31 23:20:17+00:00   dickinsonhqddd   \n",
      "1    2022-12-30 18:49:38+00:00        nsdbeauty   \n",
      "2    2022-12-30 07:11:10+00:00      sengerdvspz   \n",
      "3    2022-12-29 12:45:57+00:00      Gretchen62H   \n",
      "4    2022-12-29 08:21:25+00:00         Waldo42M   \n",
      "...                        ...              ...   \n",
      "1727 2020-01-03 17:30:09+00:00   Strand0nBeauty   \n",
      "1728 2020-01-03 11:44:54+00:00  sarah_berryman1   \n",
      "1729 2020-01-03 06:33:08+00:00  delooxnederland   \n",
      "1730 2020-01-02 16:18:26+00:00    hannah_summer   \n",
      "1731 2020-01-01 15:54:51+00:00      the_urmston   \n",
      "\n",
      "                                                  Tweet  \n",
      "0     Decleor Cleansing &amp; Hydrating Ritual 3 Pie...  \n",
      "1     Decleor Hydra Floral Anti-Pollution Hydrating ...  \n",
      "2     Decleor Cleansing &amp; Hydrating Ritual 3 Pie...  \n",
      "3     Decleor Aroma Cleanse Eye Make-Up Remover Gel ...  \n",
      "4     Decleor Cleansing &amp; Hydrating Ritual 3 Pie...  \n",
      "...                                                 ...  \n",
      "1727  [Ad - Affiliate Link] For all of you needing y...  \n",
      "1728  Don’t let the onset of autumn dull your glow! ...  \n",
      "1729  #Dagaanbieding https://t.co/BSEQnJcIlR #verzor...  \n",
      "1730  @CollagemW @TKMaxx_UK Lots of Decleor and a Qu...  \n",
      "1731  Decleor supersized. #decleor #aromessence #ess...  \n",
      "\n",
      "[1732 rows x 3 columns]\n"
     ]
    }
   ],
   "source": [
    "df = pd.DataFrame(tweets, columns=['Date', 'User', 'Tweet'])\n",
    "print(df)\n",
    "\n",
    "# to save to csv\n",
    "df.to_csv('tweets_decleor.csv') # We get here almost 2k tweets for the last year mentioning the brand"
   ]
  },
  {
   "cell_type": "markdown",
   "id": "48636ee7",
   "metadata": {},
   "source": [
    "## 3 - La Roche Posay"
   ]
  },
  {
   "cell_type": "code",
   "execution_count": 6,
   "id": "306707c7",
   "metadata": {},
   "outputs": [
    {
     "name": "stderr",
     "output_type": "stream",
     "text": [
      "C:\\Users\\Angela\\AppData\\Local\\Temp\\ipykernel_15432\\329877743.py:12: FutureWarning: username is deprecated, use user.username instead\n",
      "  tweets.append([tweet.date, tweet.username, tweet.content])\n",
      "C:\\Users\\Angela\\AppData\\Local\\Temp\\ipykernel_15432\\329877743.py:12: FutureWarning: content is deprecated, use rawContent instead\n",
      "  tweets.append([tweet.date, tweet.username, tweet.content])\n"
     ]
    }
   ],
   "source": [
    "# For loop for obtaining tweets\n",
    "query = \"La Roche Posay lang:en until:2023-01-01 since:2020-01-01\"\n",
    "tweets = []\n",
    "limits = 20000\n",
    "\n",
    "for tweet in sntwitter.TwitterSearchScraper(query).get_items():\n",
    "    #print(vars(tweet))\n",
    "    #break\n",
    "    if len(tweets) == limits:\n",
    "        break\n",
    "    else:\n",
    "        tweets.append([tweet.date, tweet.username, tweet.content])"
   ]
  },
  {
   "cell_type": "code",
   "execution_count": 7,
   "id": "88e33a9b",
   "metadata": {},
   "outputs": [
    {
     "name": "stdout",
     "output_type": "stream",
     "text": [
      "                           Date          User  \\\n",
      "0     2022-12-31 23:45:55+00:00   AomLeland88   \n",
      "1     2022-12-31 23:45:07+00:00     SAlertPro   \n",
      "2     2022-12-31 23:07:37+00:00   zizzycarter   \n",
      "3     2022-12-31 22:18:24+00:00    lemkenxfhc   \n",
      "4     2022-12-31 21:38:21+00:00    _titilay0_   \n",
      "...                         ...           ...   \n",
      "19995 2021-02-19 17:39:28+00:00     sevenjetc   \n",
      "19996 2021-02-19 16:51:02+00:00   izzatchubbz   \n",
      "19997 2021-02-19 16:20:58+00:00       fritkis   \n",
      "19998 2021-02-19 15:47:16+00:00  tyler_steele   \n",
      "19999 2021-02-19 13:30:21+00:00     _Allsales   \n",
      "\n",
      "                                                   Tweet  \n",
      "0      La Roche-Posay Toleriane Ultra Face and Eye Ma...  \n",
      "1      La Roche-Posay Substiane Riche Face Moisturize...  \n",
      "2      I don’t care much for scented skincare product...  \n",
      "3      La Roche-Posay Toleriane Purifying Foaming Fac...  \n",
      "4      Need to get my La roche posay again my skin is...  \n",
      "...                                                  ...  \n",
      "19995  @DannyPsavage Me five minutes ago: “I need to ...  \n",
      "19996  This la roche posay baume ada whitecast sikit ...  \n",
      "19997  @ImSpeaking13 Was thinking cucumber, or rosema...  \n",
      "19998  .@LaRochePosayUSA launched SOS “Save Our Skin\"...  \n",
      "19999  REMINDER - STARTS TODAY Get 10% off $50 or mor...  \n",
      "\n",
      "[20000 rows x 3 columns]\n"
     ]
    }
   ],
   "source": [
    "df = pd.DataFrame(tweets, columns=['Date', 'User', 'Tweet'])\n",
    "print(df)\n",
    "\n",
    "# to save to csv\n",
    "df.to_csv('tweets_larocheposay.csv') # We get here 20k tweets for the last year mentioning the brand"
   ]
  },
  {
   "cell_type": "markdown",
   "id": "9d45df0f",
   "metadata": {},
   "source": [
    "## 4 - Skinceuticals"
   ]
  },
  {
   "cell_type": "code",
   "execution_count": 8,
   "id": "8636556a",
   "metadata": {},
   "outputs": [
    {
     "name": "stderr",
     "output_type": "stream",
     "text": [
      "C:\\Users\\Angela\\AppData\\Local\\Temp\\ipykernel_15432\\3391559195.py:12: FutureWarning: username is deprecated, use user.username instead\n",
      "  tweets.append([tweet.date, tweet.username, tweet.content])\n",
      "C:\\Users\\Angela\\AppData\\Local\\Temp\\ipykernel_15432\\3391559195.py:12: FutureWarning: content is deprecated, use rawContent instead\n",
      "  tweets.append([tweet.date, tweet.username, tweet.content])\n"
     ]
    }
   ],
   "source": [
    "# For loop for obtaining tweets\n",
    "query = \"skinceuticals lang:en until:2023-01-01 since:2020-01-01\"\n",
    "tweets = []\n",
    "limits = 20000\n",
    "\n",
    "for tweet in sntwitter.TwitterSearchScraper(query).get_items():\n",
    "    #print(vars(tweet))\n",
    "    #break\n",
    "    if len(tweets) == limits:\n",
    "        break\n",
    "    else:\n",
    "        tweets.append([tweet.date, tweet.username, tweet.content])"
   ]
  },
  {
   "cell_type": "code",
   "execution_count": 9,
   "id": "52f6eb8b",
   "metadata": {},
   "outputs": [
    {
     "name": "stdout",
     "output_type": "stream",
     "text": [
      "                           Date          User  \\\n",
      "0     2022-12-31 16:02:10+00:00   BestMRDeals   \n",
      "1     2022-12-31 16:00:54+00:00   BestMRDeals   \n",
      "2     2022-12-31 15:11:45+00:00   BestMRDeals   \n",
      "3     2022-12-31 15:10:58+00:00  dickensjfgqa   \n",
      "4     2022-12-31 14:56:08+00:00   BestMRDeals   \n",
      "...                         ...           ...   \n",
      "15586 2020-01-01 02:31:50+00:00  BlakeMcCoyTV   \n",
      "15587 2020-01-01 02:28:12+00:00  BlakeMcCoyTV   \n",
      "15588 2020-01-01 02:28:07+00:00      AXfromMN   \n",
      "15589 2020-01-01 02:24:52+00:00   bowlermikey   \n",
      "15590 2020-01-01 02:18:09+00:00  BlakeMcCoyTV   \n",
      "\n",
      "                                                   Tweet  \n",
      "0      SkinCeuticals Biocellulose Restorative Mask (6...  \n",
      "1      SkinCeuticals Clarifying Clay Mask (2.4 oz.)\\n...  \n",
      "2      SkinCeuticals Phyto Corrective Mask (2 fl. oz....  \n",
      "3      SKINCEUTICALS Hydrating B5 Gel, 1 Fl Oz THKBED...  \n",
      "4      SkinCeuticals Hydrating B5 Mask (2.5 fl. oz.)\\...  \n",
      "...                                                  ...  \n",
      "15586  @AXfromMN @SkinCeuticals It was ONE glass of c...  \n",
      "15587  @bowlermikey @SkinCeuticals I’m old. You just ...  \n",
      "15588  @BlakeMcCoyDC @SkinCeuticals Never do your ski...  \n",
      "15589  @BlakeMcCoyDC @SkinCeuticals You're too young ...  \n",
      "15590  Just spilled half of a $160 face serum. Here’s...  \n",
      "\n",
      "[15591 rows x 3 columns]\n"
     ]
    }
   ],
   "source": [
    "df = pd.DataFrame(tweets, columns=['Date', 'User', 'Tweet'])\n",
    "print(df)\n",
    "\n",
    "# to save to csv\n",
    "df.to_csv('tweets_skinceuticals.csv') # We get here 15k tweets for the last year mentioning the brand"
   ]
  },
  {
   "cell_type": "markdown",
   "id": "29d73d81",
   "metadata": {},
   "source": [
    "## 5 - Vichy"
   ]
  },
  {
   "cell_type": "code",
   "execution_count": 8,
   "id": "1fc80e47",
   "metadata": {},
   "outputs": [
    {
     "name": "stderr",
     "output_type": "stream",
     "text": [
      "C:\\Users\\Angela\\AppData\\Local\\Temp\\ipykernel_8076\\3701138360.py:12: FutureWarning: username is deprecated, use user.username instead\n",
      "  tweets.append([tweet.date, tweet.username, tweet.content])\n",
      "C:\\Users\\Angela\\AppData\\Local\\Temp\\ipykernel_8076\\3701138360.py:12: FutureWarning: content is deprecated, use rawContent instead\n",
      "  tweets.append([tweet.date, tweet.username, tweet.content])\n"
     ]
    }
   ],
   "source": [
    "# For loop for obtaining tweets\n",
    "query = \"vichy skin lang:en until:2023-01-01 since:2020-01-01\"\n",
    "tweets = []\n",
    "limits = 20000\n",
    "\n",
    "for tweet in sntwitter.TwitterSearchScraper(query).get_items():\n",
    "    #print(vars(tweet))\n",
    "    #break\n",
    "    if len(tweets) == limits:\n",
    "        break\n",
    "    else:\n",
    "        tweets.append([tweet.date, tweet.username, tweet.content])"
   ]
  },
  {
   "cell_type": "code",
   "execution_count": 9,
   "id": "151efffb",
   "metadata": {},
   "outputs": [
    {
     "name": "stdout",
     "output_type": "stream",
     "text": [
      "                          Date             User  \\\n",
      "0    2022-12-30 22:50:24+00:00        eseead_ca   \n",
      "1    2022-12-29 18:56:09+00:00        Earthlite   \n",
      "2    2022-12-29 07:10:34+00:00    EmoKidAtHeart   \n",
      "3    2022-12-27 17:00:01+00:00        Vichy_USA   \n",
      "4    2022-12-26 16:00:26+00:00   BestPharmacyGr   \n",
      "...                        ...              ...   \n",
      "1726 2020-01-03 22:59:33+00:00        Vichy_USA   \n",
      "1727 2020-01-03 17:39:25+00:00           _Guchu   \n",
      "1728 2020-01-03 14:57:11+00:00    flankericeman   \n",
      "1729 2020-01-02 18:17:32+00:00  SashaHopeWrites   \n",
      "1730 2020-01-02 04:09:09+00:00     AliciaABayly   \n",
      "\n",
      "                                                  Tweet  \n",
      "0     Vichy Mineral 89 Hyaluronic Acid Serum for Fac...  \n",
      "1     Vichy Showers are a great way to induce relaxa...  \n",
      "2     update: the vichy serum broke me out and i don...  \n",
      "3     To de-stress the skin, you need to address its...  \n",
      "4     Vichy up to -42% for super healthy skin ➡️ htt...  \n",
      "...                                                 ...  \n",
      "1726  Sensitive skin requires extra hydration mornin...  \n",
      "1727  The Vichy Mineral water: Awesome packaging, ni...  \n",
      "1728  @howthox You can try Vichy Nutrilogie 2- very ...  \n",
      "1729  @Mikkuchan07 Clinique and Vichy are the best b...  \n",
      "1730  @julietta_cauth @salihughes ‘Ultrabland’ clean...  \n",
      "\n",
      "[1731 rows x 3 columns]\n"
     ]
    }
   ],
   "source": [
    "df = pd.DataFrame(tweets, columns=['Date', 'User', 'Tweet'])\n",
    "print(df)\n",
    "\n",
    "# to save to csv\n",
    "df.to_csv('tweets_vichy.csv') # We get here 1k tweets for the last year mentioning the brand\n",
    "                              # The search had to be more specific here since Vichy is quite a popular word..."
   ]
  },
  {
   "cell_type": "code",
   "execution_count": null,
   "id": "eab650b3",
   "metadata": {},
   "outputs": [],
   "source": [
    "# we have a dataset with 60k values"
   ]
  }
 ],
 "metadata": {
  "kernelspec": {
   "display_name": "Python 3 (ipykernel)",
   "language": "python",
   "name": "python3"
  },
  "language_info": {
   "codemirror_mode": {
    "name": "ipython",
    "version": 3
   },
   "file_extension": ".py",
   "mimetype": "text/x-python",
   "name": "python",
   "nbconvert_exporter": "python",
   "pygments_lexer": "ipython3",
   "version": "3.9.12"
  }
 },
 "nbformat": 4,
 "nbformat_minor": 5
}
