{
 "cells": [
  {
   "cell_type": "code",
   "execution_count": 1,
   "id": "96f05a80",
   "metadata": {},
   "outputs": [
    {
     "name": "stderr",
     "output_type": "stream",
     "text": [
      "[nltk_data] Downloading package punkt to\n",
      "[nltk_data]     C:\\Users\\Angela\\AppData\\Roaming\\nltk_data...\n",
      "[nltk_data]   Package punkt is already up-to-date!\n",
      "[nltk_data] Downloading package wordnet to\n",
      "[nltk_data]     C:\\Users\\Angela\\AppData\\Roaming\\nltk_data...\n",
      "[nltk_data]   Package wordnet is already up-to-date!\n"
     ]
    }
   ],
   "source": [
    "import nltk\n",
    "nltk.download('punkt')\n",
    "nltk.download('wordnet')\n",
    "from nltk import sent_tokenize, word_tokenize\n",
    "from nltk.stem.snowball import SnowballStemmer\n",
    "from nltk.stem.wordnet import WordNetLemmatizer\n",
    "from sklearn.feature_extraction.text import CountVectorizer\n",
    "from nltk.corpus import stopwords\n",
    "from nltk.corpus import wordnet\n",
    "from textblob import TextBlob\n",
    "\n",
    "from sklearn.cluster import KMeans\n",
    "from sklearn.feature_extraction.text import TfidfVectorizer\n",
    "from sklearn.decomposition import NMF\n",
    "from sklearn.pipeline import make_pipeline\n",
    "\n",
    "import pandas as pd\n",
    "import numpy as np\n",
    "import re  \n",
    "import matplotlib.pyplot as plt"
   ]
  },
  {
   "cell_type": "code",
   "execution_count": 2,
   "id": "452a1bce",
   "metadata": {},
   "outputs": [],
   "source": [
    "import pandas as pd\n",
    "decleor = pd.read_csv(\"tweets_decleor.csv\")\n",
    "decleor = decleor.drop(['Unnamed: 0', 'Date', 'User'], axis=1)"
   ]
  },
  {
   "cell_type": "markdown",
   "id": "4974baf2",
   "metadata": {},
   "source": [
    "## Data Cleaning"
   ]
  },
  {
   "cell_type": "code",
   "execution_count": 11,
   "id": "50d7b409",
   "metadata": {},
   "outputs": [
    {
     "data": {
      "text/html": [
       "<div>\n",
       "<style scoped>\n",
       "    .dataframe tbody tr th:only-of-type {\n",
       "        vertical-align: middle;\n",
       "    }\n",
       "\n",
       "    .dataframe tbody tr th {\n",
       "        vertical-align: top;\n",
       "    }\n",
       "\n",
       "    .dataframe thead th {\n",
       "        text-align: right;\n",
       "    }\n",
       "</style>\n",
       "<table border=\"1\" class=\"dataframe\">\n",
       "  <thead>\n",
       "    <tr style=\"text-align: right;\">\n",
       "      <th></th>\n",
       "      <th>Tweet</th>\n",
       "    </tr>\n",
       "  </thead>\n",
       "  <tbody>\n",
       "    <tr>\n",
       "      <th>0</th>\n",
       "      <td>Decleor Cleansing &amp;amp; Hydrating Ritual 3 Pie...</td>\n",
       "    </tr>\n",
       "    <tr>\n",
       "      <th>1</th>\n",
       "      <td>Decleor Hydra Floral Anti-Pollution Hydrating ...</td>\n",
       "    </tr>\n",
       "    <tr>\n",
       "      <th>2</th>\n",
       "      <td>Decleor Cleansing &amp;amp; Hydrating Ritual 3 Pie...</td>\n",
       "    </tr>\n",
       "    <tr>\n",
       "      <th>3</th>\n",
       "      <td>Decleor Aroma Cleanse Eye Make-Up Remover Gel ...</td>\n",
       "    </tr>\n",
       "    <tr>\n",
       "      <th>4</th>\n",
       "      <td>Decleor Cleansing &amp;amp; Hydrating Ritual 3 Pie...</td>\n",
       "    </tr>\n",
       "  </tbody>\n",
       "</table>\n",
       "</div>"
      ],
      "text/plain": [
       "                                               Tweet\n",
       "0  Decleor Cleansing &amp; Hydrating Ritual 3 Pie...\n",
       "1  Decleor Hydra Floral Anti-Pollution Hydrating ...\n",
       "2  Decleor Cleansing &amp; Hydrating Ritual 3 Pie...\n",
       "3  Decleor Aroma Cleanse Eye Make-Up Remover Gel ...\n",
       "4  Decleor Cleansing &amp; Hydrating Ritual 3 Pie..."
      ]
     },
     "execution_count": 11,
     "metadata": {},
     "output_type": "execute_result"
    }
   ],
   "source": [
    "decleor.head()"
   ]
  },
  {
   "cell_type": "markdown",
   "id": "3509b679",
   "metadata": {},
   "source": [
    "### Remove punctuation, special characters and lower casing"
   ]
  },
  {
   "cell_type": "code",
   "execution_count": 12,
   "id": "500d1992",
   "metadata": {},
   "outputs": [],
   "source": [
    "# 1 - Text cleaning\n",
    "def clean_up(s):\n",
    "    clean = re.sub(r'http\\S+', '', s)\n",
    "    return re.sub('[^A-Za-z ]+', ' ', clean).lower().strip()\n",
    "\n",
    "def clean_up2(s):\n",
    "    clean2 = re.sub(r'\\W*\\b\\w{1,3}\\b', '', s)\n",
    "    return re.sub('[^A-Za-z ]+', ' ', clean2).lower().strip()"
   ]
  },
  {
   "cell_type": "code",
   "execution_count": 13,
   "id": "a8f7a05a",
   "metadata": {},
   "outputs": [],
   "source": [
    "# In order to avoid errors, change type to string\n",
    "decleor['Tweet'] = decleor['Tweet'].apply(str)  # change to string for avoiding errors"
   ]
  },
  {
   "cell_type": "code",
   "execution_count": 14,
   "id": "78e5b6dc",
   "metadata": {},
   "outputs": [
    {
     "data": {
      "text/html": [
       "<div>\n",
       "<style scoped>\n",
       "    .dataframe tbody tr th:only-of-type {\n",
       "        vertical-align: middle;\n",
       "    }\n",
       "\n",
       "    .dataframe tbody tr th {\n",
       "        vertical-align: top;\n",
       "    }\n",
       "\n",
       "    .dataframe thead th {\n",
       "        text-align: right;\n",
       "    }\n",
       "</style>\n",
       "<table border=\"1\" class=\"dataframe\">\n",
       "  <thead>\n",
       "    <tr style=\"text-align: right;\">\n",
       "      <th></th>\n",
       "      <th>Tweet</th>\n",
       "      <th>Tweet_Processed</th>\n",
       "    </tr>\n",
       "  </thead>\n",
       "  <tbody>\n",
       "    <tr>\n",
       "      <th>0</th>\n",
       "      <td>Decleor Cleansing &amp;amp; Hydrating Ritual 3 Pie...</td>\n",
       "      <td>decleor cleansing  hydrating ritual   piece mk...</td>\n",
       "    </tr>\n",
       "    <tr>\n",
       "      <th>1</th>\n",
       "      <td>Decleor Hydra Floral Anti-Pollution Hydrating ...</td>\n",
       "      <td>decleor hydra floral anti pollution hydrating ...</td>\n",
       "    </tr>\n",
       "    <tr>\n",
       "      <th>2</th>\n",
       "      <td>Decleor Cleansing &amp;amp; Hydrating Ritual 3 Pie...</td>\n",
       "      <td>decleor cleansing  hydrating ritual   piece</td>\n",
       "    </tr>\n",
       "    <tr>\n",
       "      <th>3</th>\n",
       "      <td>Decleor Aroma Cleanse Eye Make-Up Remover Gel ...</td>\n",
       "      <td>decleor aroma cleanse make remover unisex     ...</td>\n",
       "    </tr>\n",
       "    <tr>\n",
       "      <th>4</th>\n",
       "      <td>Decleor Cleansing &amp;amp; Hydrating Ritual 3 Pie...</td>\n",
       "      <td>decleor cleansing  hydrating ritual   piece  yyxu</td>\n",
       "    </tr>\n",
       "    <tr>\n",
       "      <th>...</th>\n",
       "      <td>...</td>\n",
       "      <td>...</td>\n",
       "    </tr>\n",
       "    <tr>\n",
       "      <th>1727</th>\n",
       "      <td>[Ad - Affiliate Link] For all of you needing y...</td>\n",
       "      <td>affiliate link needing your  decleoruk there d...</td>\n",
       "    </tr>\n",
       "    <tr>\n",
       "      <th>1728</th>\n",
       "      <td>Don’t let the onset of autumn dull your glow! ...</td>\n",
       "      <td>onset autumn dull your glow  check this fabulo...</td>\n",
       "    </tr>\n",
       "    <tr>\n",
       "      <th>1729</th>\n",
       "      <td>#Dagaanbieding https://t.co/BSEQnJcIlR #verzor...</td>\n",
       "      <td>dagaanbieding   verzorging decleor aromessence...</td>\n",
       "    </tr>\n",
       "    <tr>\n",
       "      <th>1730</th>\n",
       "      <td>@CollagemW @TKMaxx_UK Lots of Decleor and a Qu...</td>\n",
       "      <td>collagemw  tkmaxx lots decleor quinn witch haz...</td>\n",
       "    </tr>\n",
       "    <tr>\n",
       "      <th>1731</th>\n",
       "      <td>Decleor supersized. #decleor #aromessence #ess...</td>\n",
       "      <td>decleor supersized   decleor  aromessence  ess...</td>\n",
       "    </tr>\n",
       "  </tbody>\n",
       "</table>\n",
       "<p>1732 rows × 2 columns</p>\n",
       "</div>"
      ],
      "text/plain": [
       "                                                  Tweet  \\\n",
       "0     Decleor Cleansing &amp; Hydrating Ritual 3 Pie...   \n",
       "1     Decleor Hydra Floral Anti-Pollution Hydrating ...   \n",
       "2     Decleor Cleansing &amp; Hydrating Ritual 3 Pie...   \n",
       "3     Decleor Aroma Cleanse Eye Make-Up Remover Gel ...   \n",
       "4     Decleor Cleansing &amp; Hydrating Ritual 3 Pie...   \n",
       "...                                                 ...   \n",
       "1727  [Ad - Affiliate Link] For all of you needing y...   \n",
       "1728  Don’t let the onset of autumn dull your glow! ...   \n",
       "1729  #Dagaanbieding https://t.co/BSEQnJcIlR #verzor...   \n",
       "1730  @CollagemW @TKMaxx_UK Lots of Decleor and a Qu...   \n",
       "1731  Decleor supersized. #decleor #aromessence #ess...   \n",
       "\n",
       "                                        Tweet_Processed  \n",
       "0     decleor cleansing  hydrating ritual   piece mk...  \n",
       "1     decleor hydra floral anti pollution hydrating ...  \n",
       "2           decleor cleansing  hydrating ritual   piece  \n",
       "3     decleor aroma cleanse make remover unisex     ...  \n",
       "4     decleor cleansing  hydrating ritual   piece  yyxu  \n",
       "...                                                 ...  \n",
       "1727  affiliate link needing your  decleoruk there d...  \n",
       "1728  onset autumn dull your glow  check this fabulo...  \n",
       "1729  dagaanbieding   verzorging decleor aromessence...  \n",
       "1730  collagemw  tkmaxx lots decleor quinn witch haz...  \n",
       "1731  decleor supersized   decleor  aromessence  ess...  \n",
       "\n",
       "[1732 rows x 2 columns]"
      ]
     },
     "execution_count": 14,
     "metadata": {},
     "output_type": "execute_result"
    }
   ],
   "source": [
    "decleor['Tweet_Processed'] = decleor['Tweet'].apply(clean_up).apply(clean_up2)\n",
    "decleor"
   ]
  },
  {
   "cell_type": "markdown",
   "id": "89017af6",
   "metadata": {},
   "source": [
    "### Tokenize words and further clean-up text"
   ]
  },
  {
   "cell_type": "code",
   "execution_count": 15,
   "id": "047231dc",
   "metadata": {},
   "outputs": [
    {
     "name": "stdout",
     "output_type": "stream",
     "text": [
      "['decleor', 'cleansing', 'hydrating', 'ritual', 'piece', 'mkzoeqw']\n"
     ]
    }
   ],
   "source": [
    "import gensim\n",
    "from gensim.utils import simple_preprocess\n",
    "\n",
    "def sent_to_words(sentences):\n",
    "    for sentence in sentences:\n",
    "        yield(gensim.utils.simple_preprocess(str(sentence), deacc=True))  # deacc=True removes punctuations\n",
    "\n",
    "data = decleor.Tweet_Processed.values.tolist()\n",
    "data_words = list(sent_to_words(data))\n",
    "\n",
    "print(data_words[:1][0][:30])"
   ]
  },
  {
   "cell_type": "markdown",
   "id": "e98be3b8",
   "metadata": {},
   "source": [
    "### Phrase Modeling: Bigram and Trigram Models"
   ]
  },
  {
   "cell_type": "code",
   "execution_count": 16,
   "id": "828350c4",
   "metadata": {},
   "outputs": [],
   "source": [
    "# Build the bigram and trigram models\n",
    "bigram = gensim.models.Phrases(data_words, min_count=5, threshold=100) # higher threshold fewer phrases.\n",
    "trigram = gensim.models.Phrases(bigram[data_words], threshold=100)  \n",
    "\n",
    "# Faster way to get a sentence clubbed as a trigram/bigram\n",
    "bigram_mod = gensim.models.phrases.Phraser(bigram)\n",
    "trigram_mod = gensim.models.phrases.Phraser(trigram)"
   ]
  },
  {
   "cell_type": "markdown",
   "id": "5770d79f",
   "metadata": {},
   "source": [
    "### Remove Stopwords, Make Bigrams and Lemmatize"
   ]
  },
  {
   "cell_type": "code",
   "execution_count": 17,
   "id": "83025ac2",
   "metadata": {},
   "outputs": [
    {
     "name": "stderr",
     "output_type": "stream",
     "text": [
      "[nltk_data] Downloading package stopwords to\n",
      "[nltk_data]     C:\\Users\\Angela\\AppData\\Roaming\\nltk_data...\n",
      "[nltk_data]   Package stopwords is already up-to-date!\n"
     ]
    }
   ],
   "source": [
    "# NLTK Stop words\n",
    "import nltk\n",
    "nltk.download('stopwords')\n",
    "from nltk.corpus import stopwords\n",
    "\n",
    "stop_words = stopwords.words('english')\n",
    "stop_words.extend(['SA', 'link', '$', 'ohmybeautybank'])\n",
    "\n",
    "# Define functions for stopwords, bigrams, trigrams and lemmatization\n",
    "def remove_stopwords(texts):\n",
    "    return [[word for word in simple_preprocess(str(doc)) if word not in stop_words] for doc in texts]\n",
    "\n",
    "def make_bigrams(texts):\n",
    "    return [bigram_mod[doc] for doc in texts]\n",
    "\n",
    "def make_trigrams(texts):\n",
    "    return [trigram_mod[bigram_mod[doc]] for doc in texts]\n",
    "\n",
    "def lemmatization(texts, allowed_postags=['NOUN', 'ADJ', 'VERB', 'ADV']):\n",
    "    \"\"\"https://spacy.io/api/annotation\"\"\"\n",
    "    texts_out = []\n",
    "    for sent in texts:\n",
    "        doc = nlp(\" \".join(sent)) \n",
    "        texts_out.append([token.lemma_ for token in doc if token.pos_ in allowed_postags])\n",
    "    return texts_out"
   ]
  },
  {
   "cell_type": "code",
   "execution_count": 18,
   "id": "d4da1b63",
   "metadata": {},
   "outputs": [],
   "source": [
    "#pip install spacy"
   ]
  },
  {
   "cell_type": "code",
   "execution_count": 19,
   "id": "959ca106",
   "metadata": {
    "scrolled": true
   },
   "outputs": [
    {
     "name": "stdout",
     "output_type": "stream",
     "text": [
      "Collecting en-core-web-sm==3.5.0\n",
      "  Downloading https://github.com/explosion/spacy-models/releases/download/en_core_web_sm-3.5.0/en_core_web_sm-3.5.0-py3-none-any.whl (12.8 MB)\n",
      "     --------------------------------------- 12.8/12.8 MB 43.5 MB/s eta 0:00:00\n",
      "Requirement already satisfied: spacy<3.6.0,>=3.5.0 in c:\\users\\angela\\anaconda\\lib\\site-packages (from en-core-web-sm==3.5.0) (3.5.0)\n",
      "Requirement already satisfied: typer<0.8.0,>=0.3.0 in c:\\users\\angela\\anaconda\\lib\\site-packages (from spacy<3.6.0,>=3.5.0->en-core-web-sm==3.5.0) (0.7.0)\n",
      "Requirement already satisfied: pydantic!=1.8,!=1.8.1,<1.11.0,>=1.7.4 in c:\\users\\angela\\anaconda\\lib\\site-packages (from spacy<3.6.0,>=3.5.0->en-core-web-sm==3.5.0) (1.10.4)\n",
      "Requirement already satisfied: srsly<3.0.0,>=2.4.3 in c:\\users\\angela\\anaconda\\lib\\site-packages (from spacy<3.6.0,>=3.5.0->en-core-web-sm==3.5.0) (2.4.5)\n",
      "Requirement already satisfied: thinc<8.2.0,>=8.1.0 in c:\\users\\angela\\anaconda\\lib\\site-packages (from spacy<3.6.0,>=3.5.0->en-core-web-sm==3.5.0) (8.1.7)\n",
      "Requirement already satisfied: langcodes<4.0.0,>=3.2.0 in c:\\users\\angela\\anaconda\\lib\\site-packages (from spacy<3.6.0,>=3.5.0->en-core-web-sm==3.5.0) (3.3.0)\n",
      "Requirement already satisfied: cymem<2.1.0,>=2.0.2 in c:\\users\\angela\\anaconda\\lib\\site-packages (from spacy<3.6.0,>=3.5.0->en-core-web-sm==3.5.0) (2.0.7)\n",
      "Requirement already satisfied: wasabi<1.2.0,>=0.9.1 in c:\\users\\angela\\anaconda\\lib\\site-packages (from spacy<3.6.0,>=3.5.0->en-core-web-sm==3.5.0) (1.1.1)\n",
      "Requirement already satisfied: jinja2 in c:\\users\\angela\\anaconda\\lib\\site-packages (from spacy<3.6.0,>=3.5.0->en-core-web-sm==3.5.0) (3.1.2)\n",
      "Requirement already satisfied: spacy-loggers<2.0.0,>=1.0.0 in c:\\users\\angela\\anaconda\\lib\\site-packages (from spacy<3.6.0,>=3.5.0->en-core-web-sm==3.5.0) (1.0.4)\n",
      "Requirement already satisfied: preshed<3.1.0,>=3.0.2 in c:\\users\\angela\\anaconda\\lib\\site-packages (from spacy<3.6.0,>=3.5.0->en-core-web-sm==3.5.0) (3.0.8)\n",
      "Requirement already satisfied: spacy-legacy<3.1.0,>=3.0.11 in c:\\users\\angela\\anaconda\\lib\\site-packages (from spacy<3.6.0,>=3.5.0->en-core-web-sm==3.5.0) (3.0.12)\n",
      "Requirement already satisfied: catalogue<2.1.0,>=2.0.6 in c:\\users\\angela\\anaconda\\lib\\site-packages (from spacy<3.6.0,>=3.5.0->en-core-web-sm==3.5.0) (2.0.8)\n",
      "Requirement already satisfied: tqdm<5.0.0,>=4.38.0 in c:\\users\\angela\\anaconda\\lib\\site-packages (from spacy<3.6.0,>=3.5.0->en-core-web-sm==3.5.0) (4.64.1)\n",
      "Requirement already satisfied: pathy>=0.10.0 in c:\\users\\angela\\anaconda\\lib\\site-packages (from spacy<3.6.0,>=3.5.0->en-core-web-sm==3.5.0) (0.10.1)\n",
      "Requirement already satisfied: murmurhash<1.1.0,>=0.28.0 in c:\\users\\angela\\anaconda\\lib\\site-packages (from spacy<3.6.0,>=3.5.0->en-core-web-sm==3.5.0) (1.0.9)\n",
      "Requirement already satisfied: packaging>=20.0 in c:\\users\\angela\\anaconda\\lib\\site-packages (from spacy<3.6.0,>=3.5.0->en-core-web-sm==3.5.0) (22.0)\n",
      "Requirement already satisfied: smart-open<7.0.0,>=5.2.1 in c:\\users\\angela\\anaconda\\lib\\site-packages (from spacy<3.6.0,>=3.5.0->en-core-web-sm==3.5.0) (6.3.0)\n",
      "Requirement already satisfied: requests<3.0.0,>=2.13.0 in c:\\users\\angela\\anaconda\\lib\\site-packages (from spacy<3.6.0,>=3.5.0->en-core-web-sm==3.5.0) (2.28.1)\n",
      "Requirement already satisfied: setuptools in c:\\users\\angela\\anaconda\\lib\\site-packages (from spacy<3.6.0,>=3.5.0->en-core-web-sm==3.5.0) (65.6.3)\n",
      "Requirement already satisfied: numpy>=1.15.0 in c:\\users\\angela\\anaconda\\lib\\site-packages (from spacy<3.6.0,>=3.5.0->en-core-web-sm==3.5.0) (1.23.5)\n",
      "Requirement already satisfied: typing-extensions>=4.2.0 in c:\\users\\angela\\anaconda\\lib\\site-packages (from pydantic!=1.8,!=1.8.1,<1.11.0,>=1.7.4->spacy<3.6.0,>=3.5.0->en-core-web-sm==3.5.0) (4.4.0)\n",
      "Requirement already satisfied: idna<4,>=2.5 in c:\\users\\angela\\anaconda\\lib\\site-packages (from requests<3.0.0,>=2.13.0->spacy<3.6.0,>=3.5.0->en-core-web-sm==3.5.0) (3.4)\n",
      "Requirement already satisfied: charset-normalizer<3,>=2 in c:\\users\\angela\\anaconda\\lib\\site-packages (from requests<3.0.0,>=2.13.0->spacy<3.6.0,>=3.5.0->en-core-web-sm==3.5.0) (2.0.4)\n",
      "Requirement already satisfied: certifi>=2017.4.17 in c:\\users\\angela\\anaconda\\lib\\site-packages (from requests<3.0.0,>=2.13.0->spacy<3.6.0,>=3.5.0->en-core-web-sm==3.5.0) (2022.12.7)\n",
      "Requirement already satisfied: urllib3<1.27,>=1.21.1 in c:\\users\\angela\\anaconda\\lib\\site-packages (from requests<3.0.0,>=2.13.0->spacy<3.6.0,>=3.5.0->en-core-web-sm==3.5.0) (1.26.14)\n",
      "Requirement already satisfied: blis<0.8.0,>=0.7.8 in c:\\users\\angela\\anaconda\\lib\\site-packages (from thinc<8.2.0,>=8.1.0->spacy<3.6.0,>=3.5.0->en-core-web-sm==3.5.0) (0.7.9)\n",
      "Requirement already satisfied: confection<1.0.0,>=0.0.1 in c:\\users\\angela\\anaconda\\lib\\site-packages (from thinc<8.2.0,>=8.1.0->spacy<3.6.0,>=3.5.0->en-core-web-sm==3.5.0) (0.0.4)\n",
      "Requirement already satisfied: colorama in c:\\users\\angela\\anaconda\\lib\\site-packages (from tqdm<5.0.0,>=4.38.0->spacy<3.6.0,>=3.5.0->en-core-web-sm==3.5.0) (0.4.6)\n",
      "Requirement already satisfied: click<9.0.0,>=7.1.1 in c:\\users\\angela\\anaconda\\lib\\site-packages (from typer<0.8.0,>=0.3.0->spacy<3.6.0,>=3.5.0->en-core-web-sm==3.5.0) (8.0.4)\n",
      "Requirement already satisfied: MarkupSafe>=2.0 in c:\\users\\angela\\anaconda\\lib\\site-packages (from jinja2->spacy<3.6.0,>=3.5.0->en-core-web-sm==3.5.0) (2.1.1)\n",
      "\u001b[38;5;2m[+] Download and installation successful\u001b[0m\n",
      "You can now load the package via spacy.load('en_core_web_sm')\n"
     ]
    }
   ],
   "source": [
    "!python -m spacy download en_core_web_sm\n",
    "import spacy\n",
    "\n",
    "# Remove Stop Words\n",
    "data_words_nostops = remove_stopwords(data_words)\n",
    "\n",
    "# Form Bigrams\n",
    "data_words_bigrams = make_bigrams(data_words_nostops)\n",
    "\n",
    "# Initialize spacy 'en' model, keeping only tagger component (for efficiency)\n",
    "nlp = spacy.load(\"en_core_web_sm\", disable=['parser', 'ner'])\n",
    "\n",
    "# Do lemmatization keeping only noun, adj, vb, adv\n",
    "data_lemmatized = lemmatization(data_words_bigrams, allowed_postags=['NOUN', 'ADJ', 'VERB', 'ADV'])\n",
    "\n",
    "# print(data_lemmatized[:1][0][:30])"
   ]
  },
  {
   "cell_type": "markdown",
   "id": "5aef6b6b",
   "metadata": {},
   "source": [
    "### Data Transformation: Corpus and Dictionary"
   ]
  },
  {
   "cell_type": "code",
   "execution_count": 20,
   "id": "f3378495",
   "metadata": {},
   "outputs": [
    {
     "name": "stdout",
     "output_type": "stream",
     "text": [
      "[(0, 1), (1, 1), (2, 1), (3, 1)]\n"
     ]
    }
   ],
   "source": [
    "import gensim.corpora as corpora\n",
    "\n",
    "# Create Dictionary\n",
    "id2word = corpora.Dictionary(data_lemmatized)\n",
    "\n",
    "# Create Corpus\n",
    "texts = data_lemmatized\n",
    "\n",
    "# Term Document Frequency\n",
    "corpus = [id2word.doc2bow(text) for text in texts]\n",
    "\n",
    "# View\n",
    "print(corpus[:1][0][:30])"
   ]
  },
  {
   "cell_type": "markdown",
   "id": "77052204",
   "metadata": {},
   "source": [
    "### Base Model"
   ]
  },
  {
   "cell_type": "code",
   "execution_count": 21,
   "id": "b4d4ecfa",
   "metadata": {},
   "outputs": [],
   "source": [
    "# Build LDA model\n",
    "lda_model = gensim.models.LdaMulticore(corpus=corpus,\n",
    "                                       id2word=id2word,\n",
    "                                       num_topics=10, \n",
    "                                       random_state=100,\n",
    "                                       chunksize=100,\n",
    "                                       passes=10,\n",
    "                                       per_word_topics=True)"
   ]
  },
  {
   "cell_type": "markdown",
   "id": "3ead81b6",
   "metadata": {},
   "source": [
    "### View the topics in LDA model"
   ]
  },
  {
   "cell_type": "markdown",
   "id": "3ad7aa0b",
   "metadata": {},
   "source": [
    "The above LDA model is built with 10 different topics where each topic is a combination of keywords and each keyword contributes a certain weightage to the topic.\n",
    "\n",
    "You can see the keywords for each topic and the weightage(importance) of each keyword using lda_model.print_topics()"
   ]
  },
  {
   "cell_type": "code",
   "execution_count": 22,
   "id": "54327571",
   "metadata": {},
   "outputs": [
    {
     "name": "stdout",
     "output_type": "stream",
     "text": [
      "[(0,\n",
      "  '0.081*\"facial\" + 0.037*\"treatment\" + 0.032*\"massage\" + 0.027*\"min\" + '\n",
      "  '0.021*\"minute\" + 0.021*\"relax\" + 0.018*\"decleor\" + 0.016*\"offer\" + '\n",
      "  '0.015*\"month\" + 0.014*\"person\"'),\n",
      " (1,\n",
      "  '0.025*\"body\" + 0.017*\"join\" + 0.016*\"sell\" + 0.015*\"anti_agee\" + '\n",
      "  '0.014*\"last\" + 0.013*\"decleor\" + 0.013*\"night\" + 0.013*\"great\" + '\n",
      "  '0.013*\"oil\" + 0.012*\"value\"'),\n",
      " (2,\n",
      "  '0.023*\"gift\" + 0.019*\"happy\" + 0.017*\"set\" + 0.017*\"decl\" + 0.015*\"product\" '\n",
      "  '+ 0.014*\"weekend\" + 0.014*\"neroli\" + 0.014*\"essential\" + 0.013*\"thing\" + '\n",
      "  '0.012*\"full\"'),\n",
      " (3,\n",
      "  '0.091*\"cream\" + 0.051*\"skin\" + 0.032*\"serum\" + 0.030*\"aromessence\" + '\n",
      "  '0.028*\"hydrate\" + 0.018*\"decl\" + 0.015*\"face\" + 0.014*\"product\" + '\n",
      "  '0.013*\"mask\" + 0.013*\"use\"'),\n",
      " (4,\n",
      "  '0.064*\"skin\" + 0.027*\"skincare\" + 0.021*\"decl\" + 0.021*\"night\" + '\n",
      "  '0.017*\"glow\" + 0.017*\"love\" + 0.016*\"essential_oil\" + 0.014*\"essentialoil\" '\n",
      "  '+ 0.011*\"green_mandarin\" + 0.010*\"mask\"'),\n",
      " (5,\n",
      "  '0.052*\"qvcuk\" + 0.043*\"fionaskinexpert\" + 0.024*\"go\" + 0.023*\"work\" + '\n",
      "  '0.020*\"know\" + 0.016*\"good\" + 0.015*\"look\" + 0.014*\"want\" + 0.014*\"free\" + '\n",
      "  '0.013*\"thank\"'),\n",
      " (6,\n",
      "  '0.025*\"skin\" + 0.022*\"decl\" + 0.021*\"product\" + 0.017*\"cleanse\" + '\n",
      "  '0.016*\"use\" + 0.016*\"qvcuk\" + 0.015*\"piece\" + 0.015*\"show\" + 0.014*\"week\" + '\n",
      "  '0.013*\"care\"'),\n",
      " (7,\n",
      "  '0.017*\"product\" + 0.017*\"year\" + 0.014*\"time\" + 0.014*\"back\" + 0.013*\"well\" '\n",
      "  '+ 0.011*\"early\" + 0.010*\"stock\" + 0.009*\"thank\" + 0.009*\"try\" + '\n",
      "  '0.009*\"face\"'),\n",
      " (8,\n",
      "  '0.071*\"beauty\" + 0.041*\"skincare\" + 0.035*\"gift\" + 0.027*\"free\" + '\n",
      "  '0.025*\"expert\" + 0.024*\"product\" + 0.019*\"decl\" + 0.018*\"collection\" + '\n",
      "  '0.013*\"deal\" + 0.012*\"offer\"'),\n",
      " (9,\n",
      "  '0.037*\"product\" + 0.033*\"beauty\" + 0.031*\"decl\" + 0.027*\"facial\" + '\n",
      "  '0.022*\"today\" + 0.020*\"book\" + 0.020*\"offer\" + 0.017*\"check\" + '\n",
      "  '0.014*\"worth\" + 0.012*\"extra\"')]\n"
     ]
    }
   ],
   "source": [
    "from pprint import pprint\n",
    "\n",
    "# Print the Keyword in the 10 topics\n",
    "pprint(lda_model.print_topics())\n",
    "doc_lda = lda_model[corpus]"
   ]
  },
  {
   "cell_type": "markdown",
   "id": "ebcdc7fb",
   "metadata": {},
   "source": [
    "### Compute Model Perplexity and Coherence Score"
   ]
  },
  {
   "cell_type": "code",
   "execution_count": 23,
   "id": "0a954011",
   "metadata": {},
   "outputs": [
    {
     "name": "stdout",
     "output_type": "stream",
     "text": [
      "Coherence Score:  0.3755480434805639\n"
     ]
    }
   ],
   "source": [
    "from gensim.models import CoherenceModel\n",
    "\n",
    "# Compute Coherence Score\n",
    "coherence_model_lda = CoherenceModel(model=lda_model, texts=data_lemmatized, dictionary=id2word, coherence='c_v')\n",
    "coherence_lda = coherence_model_lda.get_coherence()\n",
    "print('Coherence Score: ', coherence_lda)"
   ]
  },
  {
   "cell_type": "markdown",
   "id": "8f867ccf",
   "metadata": {},
   "source": [
    "### Hyperparameter Tuning"
   ]
  },
  {
   "cell_type": "markdown",
   "id": "bf1f6558",
   "metadata": {},
   "source": [
    "First, let's differentiate between model hyperparameters and model parameters :\n",
    "\n",
    "- Model hyperparameters can be thought of as settings for a machine learning algorithm that are tuned by the data scientist before training. Examples would be the number of trees in the random forest, or in our case, number of topics K\n",
    "\n",
    "- Model parameters can be thought of as what the model learns during training, such as the weights for each word in a given topic.\n",
    "\n",
    "Now that we have the baseline coherence score for the default LDA model, let's perform a series of sensitivity tests to help determine the following model hyperparameters:\n",
    "\n",
    "- Number of Topics (K),\n",
    "\n",
    "- Dirichlet hyperparameter alpha: Document-Topic Density,\n",
    "\n",
    "- Dirichlet hyperparameter beta: Word-Topic Density,\n",
    "\n",
    "We'll perform these tests in sequence, one parameter at a time by keeping others constant and run them over the two difference validation corpus sets. We'll use C_v as our choice of metric for performance comparison"
   ]
  },
  {
   "cell_type": "code",
   "execution_count": 16,
   "id": "d067b9ce",
   "metadata": {},
   "outputs": [],
   "source": [
    "# supporting function\n",
    "def compute_coherence_values(corpus, dictionary, k, a, b):\n",
    "    \n",
    "    lda_model = gensim.models.LdaMulticore(corpus=corpus,\n",
    "                                           id2word=dictionary,\n",
    "                                           num_topics=k, \n",
    "                                           random_state=100,\n",
    "                                           chunksize=100,\n",
    "                                           passes=10,\n",
    "                                           alpha=a,\n",
    "                                           eta=b)\n",
    "    \n",
    "    coherence_model_lda = CoherenceModel(model=lda_model, texts=data_lemmatized, dictionary=id2word, coherence='c_v')\n",
    "    \n",
    "    return coherence_model_lda.get_coherence()"
   ]
  },
  {
   "cell_type": "code",
   "execution_count": null,
   "id": "2131b9d1",
   "metadata": {},
   "outputs": [],
   "source": [
    "import numpy as np\n",
    "import tqdm\n",
    "\n",
    "grid = {}\n",
    "grid['Validation_Set'] = {}\n",
    "\n",
    "# Topics range\n",
    "min_topics = 2\n",
    "max_topics = 11\n",
    "step_size = 1\n",
    "topics_range = range(min_topics, max_topics, step_size)\n",
    "\n",
    "# Alpha parameter\n",
    "alpha = list(np.arange(0.01, 1, 0.3))\n",
    "alpha.append('symmetric')\n",
    "alpha.append('asymmetric')\n",
    "\n",
    "# Beta parameter\n",
    "beta = list(np.arange(0.01, 1, 0.3))\n",
    "beta.append('symmetric')\n",
    "\n",
    "# Validation sets\n",
    "num_of_docs = len(corpus)\n",
    "corpus_sets = [gensim.utils.ClippedCorpus(corpus, int(num_of_docs*0.75)), \n",
    "               corpus]\n",
    "\n",
    "corpus_title = ['75% Corpus', '100% Corpus']\n",
    "\n",
    "model_results = {'Validation_Set': [],\n",
    "                 'Topics': [],\n",
    "                 'Alpha': [],\n",
    "                 'Beta': [],\n",
    "                 'Coherence': []\n",
    "                }\n",
    "\n",
    "# Can take a long time to run\n",
    "if 1 == 1:\n",
    "    pbar = tqdm.tqdm(total=(len(beta)*len(alpha)*len(topics_range)*len(corpus_title)))\n",
    "    \n",
    "    # iterate through validation corpuses\n",
    "    for i in range(len(corpus_sets)):\n",
    "        # iterate through number of topics\n",
    "        for k in topics_range:\n",
    "            # iterate through alpha values\n",
    "            for a in alpha:\n",
    "                # iterare through beta values\n",
    "                for b in beta:\n",
    "                    # get the coherence score for the given parameters\n",
    "                    cv = compute_coherence_values(corpus=corpus_sets[i], dictionary=id2word, \n",
    "                                                  k=k, a=a, b=b)\n",
    "                    # Save the model results\n",
    "                    model_results['Validation_Set'].append(corpus_title[i])\n",
    "                    model_results['Topics'].append(k)\n",
    "                    model_results['Alpha'].append(a)\n",
    "                    model_results['Beta'].append(b)\n",
    "                    model_results['Coherence'].append(cv)\n",
    "                    \n",
    "                    pbar.update(1)\n",
    "    pd.DataFrame(model_results).to_csv('lda_tuning_results_decleor.csv', index=False)\n",
    "    pbar.close()"
   ]
  },
  {
   "cell_type": "code",
   "execution_count": 24,
   "id": "1d424248",
   "metadata": {},
   "outputs": [
    {
     "data": {
      "text/html": [
       "<div>\n",
       "<style scoped>\n",
       "    .dataframe tbody tr th:only-of-type {\n",
       "        vertical-align: middle;\n",
       "    }\n",
       "\n",
       "    .dataframe tbody tr th {\n",
       "        vertical-align: top;\n",
       "    }\n",
       "\n",
       "    .dataframe thead th {\n",
       "        text-align: right;\n",
       "    }\n",
       "</style>\n",
       "<table border=\"1\" class=\"dataframe\">\n",
       "  <thead>\n",
       "    <tr style=\"text-align: right;\">\n",
       "      <th></th>\n",
       "      <th>Validation_Set</th>\n",
       "      <th>Topics</th>\n",
       "      <th>Alpha</th>\n",
       "      <th>Beta</th>\n",
       "      <th>Coherence</th>\n",
       "    </tr>\n",
       "  </thead>\n",
       "  <tbody>\n",
       "    <tr>\n",
       "      <th>0</th>\n",
       "      <td>75% Corpus</td>\n",
       "      <td>2</td>\n",
       "      <td>0.01</td>\n",
       "      <td>0.01</td>\n",
       "      <td>0.250020</td>\n",
       "    </tr>\n",
       "    <tr>\n",
       "      <th>1</th>\n",
       "      <td>75% Corpus</td>\n",
       "      <td>2</td>\n",
       "      <td>0.01</td>\n",
       "      <td>0.31</td>\n",
       "      <td>0.279861</td>\n",
       "    </tr>\n",
       "    <tr>\n",
       "      <th>2</th>\n",
       "      <td>75% Corpus</td>\n",
       "      <td>2</td>\n",
       "      <td>0.01</td>\n",
       "      <td>0.61</td>\n",
       "      <td>0.255707</td>\n",
       "    </tr>\n",
       "    <tr>\n",
       "      <th>3</th>\n",
       "      <td>75% Corpus</td>\n",
       "      <td>2</td>\n",
       "      <td>0.01</td>\n",
       "      <td>0.9099999999999999</td>\n",
       "      <td>0.274573</td>\n",
       "    </tr>\n",
       "    <tr>\n",
       "      <th>4</th>\n",
       "      <td>75% Corpus</td>\n",
       "      <td>2</td>\n",
       "      <td>0.01</td>\n",
       "      <td>symmetric</td>\n",
       "      <td>0.258630</td>\n",
       "    </tr>\n",
       "    <tr>\n",
       "      <th>...</th>\n",
       "      <td>...</td>\n",
       "      <td>...</td>\n",
       "      <td>...</td>\n",
       "      <td>...</td>\n",
       "      <td>...</td>\n",
       "    </tr>\n",
       "    <tr>\n",
       "      <th>535</th>\n",
       "      <td>100% Corpus</td>\n",
       "      <td>10</td>\n",
       "      <td>asymmetric</td>\n",
       "      <td>0.01</td>\n",
       "      <td>0.378775</td>\n",
       "    </tr>\n",
       "    <tr>\n",
       "      <th>536</th>\n",
       "      <td>100% Corpus</td>\n",
       "      <td>10</td>\n",
       "      <td>asymmetric</td>\n",
       "      <td>0.31</td>\n",
       "      <td>0.353344</td>\n",
       "    </tr>\n",
       "    <tr>\n",
       "      <th>537</th>\n",
       "      <td>100% Corpus</td>\n",
       "      <td>10</td>\n",
       "      <td>asymmetric</td>\n",
       "      <td>0.61</td>\n",
       "      <td>0.415506</td>\n",
       "    </tr>\n",
       "    <tr>\n",
       "      <th>538</th>\n",
       "      <td>100% Corpus</td>\n",
       "      <td>10</td>\n",
       "      <td>asymmetric</td>\n",
       "      <td>0.9099999999999999</td>\n",
       "      <td>0.367296</td>\n",
       "    </tr>\n",
       "    <tr>\n",
       "      <th>539</th>\n",
       "      <td>100% Corpus</td>\n",
       "      <td>10</td>\n",
       "      <td>asymmetric</td>\n",
       "      <td>symmetric</td>\n",
       "      <td>0.370524</td>\n",
       "    </tr>\n",
       "  </tbody>\n",
       "</table>\n",
       "<p>540 rows × 5 columns</p>\n",
       "</div>"
      ],
      "text/plain": [
       "    Validation_Set  Topics       Alpha                Beta  Coherence\n",
       "0       75% Corpus       2        0.01                0.01   0.250020\n",
       "1       75% Corpus       2        0.01                0.31   0.279861\n",
       "2       75% Corpus       2        0.01                0.61   0.255707\n",
       "3       75% Corpus       2        0.01  0.9099999999999999   0.274573\n",
       "4       75% Corpus       2        0.01           symmetric   0.258630\n",
       "..             ...     ...         ...                 ...        ...\n",
       "535    100% Corpus      10  asymmetric                0.01   0.378775\n",
       "536    100% Corpus      10  asymmetric                0.31   0.353344\n",
       "537    100% Corpus      10  asymmetric                0.61   0.415506\n",
       "538    100% Corpus      10  asymmetric  0.9099999999999999   0.367296\n",
       "539    100% Corpus      10  asymmetric           symmetric   0.370524\n",
       "\n",
       "[540 rows x 5 columns]"
      ]
     },
     "execution_count": 24,
     "metadata": {},
     "output_type": "execute_result"
    }
   ],
   "source": [
    "result = pd.read_csv(\"lda_tuning_results_decleor.csv\")\n",
    "result"
   ]
  },
  {
   "cell_type": "code",
   "execution_count": 25,
   "id": "c3a3e1c0",
   "metadata": {},
   "outputs": [
    {
     "data": {
      "text/plain": [
       "Topics\n",
       "2     0.280899\n",
       "3     0.298459\n",
       "4     0.313838\n",
       "5     0.333120\n",
       "6     0.341556\n",
       "7     0.346620\n",
       "8     0.363334\n",
       "9     0.379912\n",
       "10    0.366630\n",
       "Name: Coherence, dtype: float64"
      ]
     },
     "execution_count": 25,
     "metadata": {},
     "output_type": "execute_result"
    }
   ],
   "source": [
    "#calculate mean of points grouped by topics\n",
    "topics = result.groupby('Topics')['Coherence'].mean()\n",
    "topics"
   ]
  },
  {
   "cell_type": "code",
   "execution_count": 26,
   "id": "61a14c8b",
   "metadata": {},
   "outputs": [
    {
     "name": "stdout",
     "output_type": "stream",
     "text": [
      "   Topics  Coherence\n",
      "0       2   0.280899\n",
      "1       3   0.298459\n",
      "2       4   0.313838\n",
      "3       5   0.333120\n",
      "4       6   0.341556\n",
      "5       7   0.346620\n",
      "6       8   0.363334\n",
      "7       9   0.379912\n",
      "8      10   0.366630\n"
     ]
    }
   ],
   "source": [
    "# Generated by OPEN AI \n",
    "import pandas as pd\n",
    "\n",
    "data = {'Topics': [2, 3, 4, 5, 6, 7, 8, 9, 10],\n",
    "        'Coherence': [0.280899, 0.298459, 0.313838, 0.333120, 0.341556, 0.346620, 0.363334, 0.379912, 0.366630]}\n",
    "\n",
    "df = pd.DataFrame(data)\n",
    "\n",
    "print(df)"
   ]
  },
  {
   "cell_type": "code",
   "execution_count": 27,
   "id": "bfc5fb75",
   "metadata": {},
   "outputs": [
    {
     "data": {
      "image/png": "[encoded data removed]",
      "text/plain": [
       "<Figure size 640x480 with 1 Axes>"
      ]
     },
     "metadata": {},
     "output_type": "display_data"
    }
   ],
   "source": [
    "# Show graph -- fix it!\n",
    "limit=40; start=2; step=6;\n",
    "x = df['Topics']\n",
    "y = df['Coherence']\n",
    "plt.plot(x, y)\n",
    "plt.xlabel(\"Num Topics\")\n",
    "plt.ylabel(\"Coherence score\")\n",
    "plt.legend((\"coherence_values\"), loc='best')\n",
    "plt.show()"
   ]
  },
  {
   "cell_type": "markdown",
   "id": "16903459",
   "metadata": {},
   "source": [
    "## Final Model"
   ]
  },
  {
   "cell_type": "code",
   "execution_count": 28,
   "id": "7bc162ed",
   "metadata": {},
   "outputs": [],
   "source": [
    "lda_model = gensim.models.ldamodel.LdaModel(corpus=corpus,\n",
    "                                           id2word=id2word,\n",
    "                                           num_topics=9, \n",
    "                                           random_state=100,\n",
    "                                           chunksize=100,\n",
    "                                           passes=10,\n",
    "                                           alpha='auto')"
   ]
  },
  {
   "cell_type": "code",
   "execution_count": 29,
   "id": "3e711346",
   "metadata": {
    "scrolled": true
   },
   "outputs": [
    {
     "name": "stderr",
     "output_type": "stream",
     "text": [
      "C:\\Users\\Angela\\ANACONDA\\lib\\site-packages\\past\\builtins\\misc.py:45: DeprecationWarning: the imp module is deprecated in favour of importlib; see the module's documentation for alternative uses\n",
      "  from imp import reload\n",
      "C:\\Users\\Angela\\ANACONDA\\lib\\site-packages\\pyLDAvis\\_prepare.py:246: FutureWarning: In a future version of pandas all arguments of DataFrame.drop except for the argument 'labels' will be keyword-only.\n",
      "  default_term_info = default_term_info.sort_values(\n"
     ]
    },
    {
     "data": {
      "text/html": [
       "\n",
       "<link rel=\"stylesheet\" type=\"text/css\" href=\"https://cdn.jsdelivr.net/gh/bmabey/pyLDAvis@3.3.1/pyLDAvis/js/ldavis.v1.0.0.css\">\n",
       "\n",
       "\n",
       "<div id=\"ldavis_el2041225636503619363391573726\"></div>\n",
       "<script type=\"text/javascript\">\n",
       "\n",
       "var ldavis_el2041225636503619363391573726_data = {\"mdsDat\": {\"x\": [0.31870626173979016, 0.0017656635102702434, -0.3961567335764464, -0.2537629147025352, 0.20799567096613297, 0.3097150145854363, 0.02174618919168412, -0.11741989682447987, -0.09258925488985235], \"y\": [0.2665996716922301, -0.4106290418102302, -0.10354330317638338, 0.2863138887552026, -0.21425802391332674, -0.01563367313527538, 0.2818287353331772, -0.14800341125879857, 0.057325157513404536], \"topics\": [1, 2, 3, 4, 5, 6, 7, 8, 9], \"cluster\": [1, 1, 1, 1, 1, 1, 1, 1, 1], \"Freq\": [28.228660233784492, 14.483946343595438, 12.064819136109273, 10.808061159562644, 8.667487018415253, 8.464370469953971, 6.771246392109036, 6.317467489303619, 4.193941757166278]}, \"tinfo\": {\"Term\": [\"beauty\", \"skin\", \"facial\", \"product\", \"offer\", \"skincare\", \"cream\", \"gift\", \"good\", \"massage\", \"glow\", \"look\", \"free\", \"love\", \"decl\", \"salon\", \"hydrate\", \"check\", \"treatment\", \"qvcuk\", \"available\", \"night\", \"expert\", \"body\", \"week\", \"take\", \"shop\", \"book\", \"time\", \"mask\", \"skin\", \"qvcuk\", \"expert\", \"fionaskinexpert\", \"use\", \"face\", \"brand\", \"year\", \"make\", \"essential_oil\", \"thank\", \"care\", \"amazing\", \"work\", \"help\", \"give\", \"hope\", \"natural\", \"happy\", \"show\", \"also\", \"know\", \"feel\", \"morning\", \"enjoy\", \"hair\", \"result\", \"age\", \"aromatherapy\", \"provide\", \"product\", \"decl\", \"need\", \"skincare\", \"mask\", \"beauty\", \"glow\", \"look\", \"free\", \"collection\", \"perfect\", \"worth\", \"full\", \"great\", \"apply\", \"gift\", \"dull\", \"bblogger\", \"bloggerstribe\", \"treat\", \"smooth\", \"receive\", \"retailer\", \"antidote\", \"delivery\", \"voucher\", \"review\", \"exfoliate\", \"late\", \"sample\", \"grimsargh_longridge\", \"makeup\", \"affiliate\", \"premium\", \"course\", \"skincare\", \"serum\", \"order\", \"decl\", \"facial\", \"treatment\", \"available\", \"book\", \"time\", \"today\", \"decleor\", \"call\", \"room\", \"weekend\", \"happiness\", \"min\", \"lovely\", \"somerset\", \"instead\", \"join\", \"autumn\", \"femalebloggerrt\", \"minute\", \"arrive\", \"stock\", \"lindsay\", \"steph\", \"post\", \"incredible\", \"round\", \"dual\", \"maximum\", \"place\", \"ultimate\", \"last\", \"order\", \"tonight\", \"good\", \"love\", \"check\", \"night\", \"take\", \"think\", \"extra\", \"go\", \"start\", \"rise\", \"price\", \"moment\", \"fragrancedirect\", \"next\", \"person\", \"oreal\", \"website\", \"thing\", \"wonderful\", \"style\", \"quncovere\", \"damage\", \"create\", \"always\", \"wonder\", \"giveaway\", \"marketing\", \"share\", \"texture\", \"lotion\", \"really\", \"offer\", \"body\", \"week\", \"moisturiser\", \"fabulous\", \"milk\", \"energise\", \"favourite\", \"sensitive\", \"comfort\", \"experience\", \"retinol\", \"hydration\", \"water\", \"soothe\", \"boost\", \"concentrate\", \"antidoteserum\", \"list\", \"size\", \"radiance\", \"protective\", \"high\", \"energy\", \"day\", \"cleansing\", \"moisturise\", \"citrus\", \"hydra_floral\", \"prolagene\", \"aromessence\", \"serum\", \"cream\", \"essentialoil\", \"include\", \"save\", \"want\", \"essential\", \"little\", \"value\", \"mother\", \"well\", \"neroli\", \"cleanser\", \"gorgeous\", \"purchase\", \"protect\", \"browse\", \"expertly\", \"hero\", \"set\", \"spend\", \"visit\", \"formula\", \"relaxation\", \"toner\", \"discover\", \"firm\", \"refresh\", \"therapist\", \"advantage\", \"delicious\", \"nourish\", \"range\", \"decl\", \"massage\", \"salon\", \"hydrate\", \"find\", \"online\", \"supersize\", \"buy\", \"anti_agee\", \"month\", \"nail\", \"daughter\", \"first\", \"gradual_glow\", \"local\", \"case_misse\", \"biggleswade\", \"fine\", \"acrylic\", \"thread\", \"editor\", \"garbage\", \"hull\", \"hulllive\", \"mile\", \"fave\", \"dress\", \"sapphirehandba\", \"colour\", \"tomorrow\", \"decleorskincare\", \"range\", \"cream\", \"shop\", \"relax\", \"cleanse\", \"back\", \"piece\", \"light\", \"leave\", \"sale\", \"miss\", \"bring\", \"blend\", \"beautiful\", \"sell\", \"skinceutical\", \"elemis\", \"try\", \"hour\", \"lavender\", \"flash\", \"thought\", \"hydodenser\", \"spell\", \"believe\", \"formulation\", \"black_friday\", \"blackfriday\", \"fresh\", \"kiss\", \"exfoliation\", \"evening\", \"cream\", \"tonight\", \"special\", \"deal\", \"anti\", \"discount\", \"combine\", \"rich\", \"lift\", \"wrinkle\", \"break\", \"arrange\", \"jewellery\", \"main\", \"sweet\", \"write\", \"eating\", \"afterwards\", \"gemstone\", \"metal\", \"primefifty\", \"simulate\", \"supplement\", \"overnight\", \"wish\", \"seed\", \"lavande_fine\", \"guy\", \"area\", \"petal\", \"vitamin\", \"reduce_appearance\", \"cream\", \"mask\", \"aromessence\"], \"Freq\": [288.0, 356.0, 151.0, 255.0, 92.0, 201.0, 119.0, 110.0, 89.0, 70.0, 98.0, 98.0, 90.0, 77.0, 250.0, 59.0, 55.0, 66.0, 69.0, 119.0, 68.0, 62.0, 115.0, 55.0, 52.0, 56.0, 42.0, 56.0, 55.0, 53.0, 355.84288874921145, 118.80207245493716, 115.05125924819755, 88.22118579800238, 82.28788916909487, 67.17076882151093, 62.17928323177812, 60.89885417433286, 56.917353302988694, 55.37317916947408, 48.37599648584986, 48.135345712442934, 42.53197681307087, 40.39632838134035, 39.764518854096366, 39.65773363948775, 39.508318927704735, 39.40784195299061, 35.613070568567515, 34.24177253240176, 32.4768977832743, 32.16380000685394, 31.220219388682903, 30.261093607558713, 30.14987347287247, 27.913500684471177, 27.599533081170993, 26.63840031417272, 25.3717348705896, 25.37912041900497, 243.9843170933062, 201.8950223115914, 44.08759435709617, 97.05392663981851, 37.505223334389676, 287.7326775448706, 98.2296736263483, 97.34715722384169, 89.75614695489023, 42.611572558686646, 42.60330572337069, 38.979885063713766, 34.595473346858654, 33.01806576626391, 31.056123413365658, 108.41613443389427, 29.600318973954025, 25.387856612766946, 25.23705749871585, 24.749914062213254, 23.902499977271635, 22.065671816216945, 20.72890734864331, 19.59845139897341, 19.397750325827083, 19.126005241008034, 18.07396753302772, 17.296158236077023, 15.1903518619045, 13.165766428170336, 12.746474301588302, 12.480393984802747, 12.01634363952453, 11.519523829292146, 11.382192614232144, 103.38342922063171, 34.39156626477107, 21.885369640318817, 25.021356152572977, 150.29776739109164, 68.43603985437133, 67.5954993441584, 56.024368461801416, 54.920669187855225, 46.6634021627108, 42.86927134476395, 38.583024975590455, 36.48977398860719, 32.80489645196193, 31.398860302887623, 27.95855349941047, 27.762906803754632, 24.04279898055473, 24.037645491713636, 23.9093676169272, 23.405159613889772, 22.528786837783727, 19.49046921715079, 16.487738295768644, 16.245128685091352, 15.073883236589639, 14.75425437706421, 14.346356246888963, 14.257707541670268, 12.860810223403181, 12.666896989496836, 12.03738604922535, 11.866759865904555, 10.819016532593157, 21.073180333437136, 20.389928668283538, 12.774413398401117, 88.63596257249361, 76.826760799378, 66.295712086017, 62.04734800225467, 55.82642462800438, 41.184454608688064, 35.98028514310534, 35.105923712139116, 29.7797258119389, 28.123369849701525, 24.100502788255547, 22.01300657762835, 21.967952087108564, 21.598012433616105, 16.678933460466595, 16.043783081431403, 14.937329611345152, 13.553153674316567, 11.23057803625348, 10.848705634034246, 10.794906673701114, 10.808088305040119, 10.298488438741696, 10.118488171796796, 10.110509836087466, 10.065619571721584, 9.395731160001956, 9.044203931810925, 8.5249238885432, 8.443763323284847, 9.28104783559804, 92.24010559515291, 54.97643371100369, 51.30813484516466, 34.572015606416095, 31.427216181692003, 22.01942755278637, 21.27312746304384, 20.221299150719975, 20.014293997323637, 19.336703638020065, 17.288687144561553, 17.247118762245847, 16.655622611573396, 14.332873781954715, 14.231841663344952, 14.21068503516311, 12.3677404529172, 12.14618575314947, 11.83567496025049, 11.324894733553514, 10.85997326567886, 10.552302305087803, 10.383992623410933, 10.192412978465436, 9.770157602029826, 9.532016590915761, 9.411310854050273, 9.201584092598694, 8.91144156201005, 8.897733674308004, 42.43429839648147, 18.983388314919832, 25.124684946634492, 43.3266264037839, 33.73212312737439, 32.58728853503174, 30.154751018552798, 29.876456037044328, 25.924142792642808, 25.770956604539297, 24.5157793345821, 23.27360945490796, 23.185156329594623, 19.906607237829387, 18.38183409735968, 18.352660789351777, 17.741809956990902, 17.81011430933175, 17.37505586810955, 17.04020290639038, 16.652776016120058, 15.916495751962406, 15.835140938509754, 15.255925629867098, 14.070809044934297, 14.054637145149897, 13.793014163604113, 13.611921667705147, 12.938311852205223, 12.884791561833438, 12.02839154193458, 11.755391879538765, 10.93312549142573, 21.55270492083344, 22.129018930594896, 69.51226585599998, 59.25790124232774, 54.5089223627647, 33.881957547145106, 27.169109435403882, 19.069054742322916, 18.479140165282743, 16.10190769354296, 15.711758773642122, 15.254858276317234, 12.368883343173193, 11.523658147480077, 10.569080154720758, 9.757818403574413, 9.290470266034438, 8.4415975843703, 8.020837920882151, 7.771256468070863, 7.771256468070863, 7.764063905207509, 7.764063905207509, 7.764063905207509, 7.764063905207509, 7.764063905207509, 7.68032916986878, 7.389257205226776, 7.279696718720606, 7.085096020395918, 7.080623040683093, 6.667110015880226, 25.19383355462883, 28.600725187317092, 42.183060539786794, 36.955179281354276, 34.74302508371074, 33.35857850952609, 28.72620647795107, 27.018312325319968, 24.468423285465935, 24.375473919232938, 20.801459525507752, 17.931525061891083, 17.169837098377926, 16.53132856531453, 16.130465448162557, 14.252287649405591, 12.806278148615615, 11.948718180475728, 11.56498102780693, 10.800986564149863, 9.81191411896983, 9.759769178046975, 9.277362395915647, 9.277362395915647, 7.202781154010174, 6.798877528538412, 6.761401589208306, 6.745109643747358, 6.316938207818366, 6.056100991001943, 5.88735545811568, 5.705150876286685, 17.813999816075945, 8.415069771653918, 22.22660373627518, 20.323804684279914, 19.693916361878262, 17.542533592253502, 15.435482804798745, 12.972788554583154, 11.998113315225405, 11.606587646635113, 11.015413930186051, 8.8464404026597, 8.825139307300871, 7.884600476710499, 7.444241100011516, 7.373616050645748, 6.793584016974889, 5.3246051609004, 5.3246051609004, 5.3246051609004, 5.3246051609004, 5.3246051609004, 5.3246051609004, 5.231242068101615, 4.969050914593843, 4.829617748967664, 4.728581744700953, 4.046493793742902, 3.9866915005613146, 3.757456786703068, 3.614762033492655, 3.466966233178947, 47.584587643170686, 15.529010103297427, 8.855487721763767], \"Total\": [288.0, 356.0, 151.0, 255.0, 92.0, 201.0, 119.0, 110.0, 89.0, 70.0, 98.0, 98.0, 90.0, 77.0, 250.0, 59.0, 55.0, 66.0, 69.0, 119.0, 68.0, 62.0, 115.0, 55.0, 52.0, 56.0, 42.0, 56.0, 55.0, 53.0, 356.5203709939747, 119.47952842327403, 115.72879009810863, 88.89863062328509, 82.96528447335048, 67.84825432947078, 62.856842215490715, 61.57630019757108, 57.5948021014084, 56.05066667685763, 49.05337337985701, 48.81275202051763, 43.20955575748651, 41.0737098464432, 40.44195712591231, 40.33515152910595, 40.18634275998948, 40.085334384025494, 36.29075722472713, 34.919195025283756, 33.154570217562394, 32.84119216197007, 31.897942917475802, 30.938499343501068, 30.828217312861096, 28.591098767636726, 28.277815236092227, 27.31595250829884, 26.04915987649901, 26.056813781840876, 255.97290421472502, 250.8259032924057, 51.95394857800189, 201.02996600959705, 53.64035761117371, 288.4264925336416, 98.92363510399021, 98.041123432253, 90.44985433375653, 43.3054911593833, 43.29746857238887, 39.67368069020529, 35.289455031539724, 33.712031879198335, 31.74993087744039, 110.85061052069383, 30.294579324309407, 26.085603011390926, 25.936842189092033, 25.443766465320518, 24.596230631556242, 22.759374644187737, 21.42252664814659, 20.29246215435517, 20.09145213326279, 19.819802393709832, 18.768753747432058, 17.9902103085864, 15.884520567484165, 13.85946116481894, 13.44103670164786, 13.174247635091103, 12.710650485143063, 12.21439440466868, 12.076173597090042, 201.02996600959705, 53.98511095589741, 42.89186047833792, 250.8259032924057, 151.00246417472337, 69.14091151191565, 68.30022356857276, 56.729056810601485, 55.62540946630889, 47.36814353053252, 43.57391939104605, 39.28780865271005, 37.19466773197934, 33.50977683121969, 32.10409712903848, 28.66338689964135, 28.467751553689627, 24.748029855718077, 24.744168234457167, 24.614611511010764, 24.11184538318171, 23.238171660821887, 20.195304732730975, 17.192551684532944, 16.949853607803878, 15.780078929386118, 15.463357315175339, 15.051152360632168, 14.962808088913937, 13.565681354228046, 13.372188524835437, 12.745386907246814, 12.571949442502165, 11.523633243401294, 22.4466678532388, 42.89186047833792, 21.797543969286142, 89.32992646819967, 77.52074429946008, 66.98989058624034, 62.74137038266049, 56.52058250925562, 41.87826378965421, 36.674625040519516, 35.7997722870228, 30.473531223940476, 28.817386102001443, 24.79486883197544, 22.70702020432206, 22.66242953152593, 22.2922391950084, 17.375473913658784, 16.73775648806105, 15.631699952971351, 14.247004318294056, 11.925622213473128, 11.544982593428495, 11.488669498835055, 11.502746746715403, 10.996977451756589, 10.812275748103735, 10.804348870700087, 10.75987863081291, 10.09016595911386, 9.738158755157862, 9.219158902751465, 9.137624877220109, 18.921604004478475, 92.93857000155836, 55.674702186352036, 52.006782756232646, 35.27069236897136, 32.12601237501765, 22.717775745387225, 21.971651854042126, 20.91955866547442, 20.71261872504403, 20.03487394896682, 17.98829732514501, 17.952107631990796, 17.354033643029812, 15.031764208760851, 14.93008963733783, 14.90899092519609, 13.065981595495469, 12.848762395294445, 12.53559811475324, 12.023195498380542, 11.558245836243396, 11.250578499067991, 11.08317219485779, 10.890738286632741, 10.468584800865743, 10.230291159113232, 10.109644829031886, 9.900999076334426, 9.609920605408652, 9.596077079708865, 51.91668820286908, 53.98511095589741, 119.57294340951347, 44.01787609395212, 34.423067771428116, 33.278173265076006, 30.845864411121074, 30.567326768175608, 26.61525188294526, 26.46265572151757, 25.20834691867504, 23.964511913712073, 23.876295325154565, 20.59757080823114, 19.072756628451796, 19.04363756974197, 18.43271878390391, 18.50612975676269, 18.073663519298655, 17.7316522729231, 17.343694565500872, 16.60748333500153, 16.526456295141035, 15.946896868461074, 14.761834276551706, 14.746018019436605, 14.483835581265101, 14.302782507455808, 13.630896263189909, 13.575872638099936, 12.720115835905844, 12.447110649832888, 11.624024271927695, 47.356446367106955, 250.8259032924057, 70.2133717106845, 59.95875601199727, 55.20975963480462, 34.58270003455758, 27.870068619627382, 19.77010794752181, 19.17985989192631, 16.808112583244785, 16.412679013136405, 15.955414217848146, 13.070852137600443, 12.224323629703731, 11.270068805420342, 10.458559868783667, 9.992126174382731, 9.142182569188245, 8.723556399145835, 8.475986964886568, 8.475986964886568, 8.471081775982036, 8.471081775982036, 8.471081775982036, 8.471081775982036, 8.471081775982036, 8.382240673921753, 8.089951423419055, 7.981988976568876, 7.785794046235439, 7.78135169833931, 7.3682994895857545, 47.356446367106955, 119.57294340951347, 42.8681840934766, 37.64596213823747, 35.4280293029658, 34.04363370685591, 29.411247105474832, 27.70346818065819, 25.153448868052394, 25.060396027946652, 21.486697229896855, 18.616787405912707, 17.855321722558113, 17.21644626523985, 16.815376163993108, 14.937322830636603, 13.491633854182224, 12.633726005382691, 12.250029489400367, 11.485961381418136, 10.499773817662058, 10.445198985254635, 9.96693241152581, 9.96693241152581, 7.887676039656233, 7.4838198807511835, 7.446261274750258, 7.429926869704441, 7.002648406915252, 6.741323080849813, 6.573571632863828, 6.390222762113542, 119.57294340951347, 21.797543969286142, 22.937342053371417, 21.034367302388656, 20.404409674199066, 18.25311578992654, 16.146747895096826, 13.683385294532776, 12.708616736741158, 12.316996651514108, 11.72735594595219, 9.559095480444261, 9.54223352851225, 8.595067203895955, 8.15539312995413, 8.091727437569093, 7.515203068478366, 6.0377520324973535, 6.0377520324973535, 6.0377520324973535, 6.0377520324973535, 6.0377520324973535, 6.0377520324973535, 5.942057284093775, 5.679904577486809, 5.540497902161871, 5.439130262933251, 4.756892604445537, 4.697274258772175, 4.467924672617975, 4.325404718111791, 4.1774714731379365, 119.57294340951347, 53.64035761117371, 51.91668820286908], \"Category\": [\"Default\", \"Default\", \"Default\", \"Default\", \"Default\", \"Default\", \"Default\", \"Default\", \"Default\", \"Default\", \"Default\", \"Default\", \"Default\", \"Default\", \"Default\", \"Default\", \"Default\", \"Default\", \"Default\", \"Default\", \"Default\", \"Default\", \"Default\", \"Default\", \"Default\", \"Default\", \"Default\", \"Default\", \"Default\", \"Default\", \"Topic1\", \"Topic1\", \"Topic1\", \"Topic1\", \"Topic1\", \"Topic1\", \"Topic1\", \"Topic1\", \"Topic1\", \"Topic1\", \"Topic1\", \"Topic1\", \"Topic1\", \"Topic1\", \"Topic1\", \"Topic1\", \"Topic1\", \"Topic1\", \"Topic1\", \"Topic1\", \"Topic1\", \"Topic1\", \"Topic1\", \"Topic1\", \"Topic1\", \"Topic1\", \"Topic1\", \"Topic1\", \"Topic1\", \"Topic1\", \"Topic1\", \"Topic1\", \"Topic1\", \"Topic1\", \"Topic1\", \"Topic2\", \"Topic2\", \"Topic2\", \"Topic2\", \"Topic2\", \"Topic2\", \"Topic2\", \"Topic2\", \"Topic2\", \"Topic2\", \"Topic2\", \"Topic2\", \"Topic2\", \"Topic2\", \"Topic2\", \"Topic2\", \"Topic2\", \"Topic2\", \"Topic2\", \"Topic2\", \"Topic2\", \"Topic2\", \"Topic2\", \"Topic2\", \"Topic2\", \"Topic2\", \"Topic2\", \"Topic2\", \"Topic2\", \"Topic2\", \"Topic2\", \"Topic2\", \"Topic2\", \"Topic2\", \"Topic3\", \"Topic3\", \"Topic3\", \"Topic3\", \"Topic3\", \"Topic3\", \"Topic3\", \"Topic3\", \"Topic3\", \"Topic3\", \"Topic3\", \"Topic3\", \"Topic3\", \"Topic3\", \"Topic3\", \"Topic3\", \"Topic3\", \"Topic3\", \"Topic3\", \"Topic3\", \"Topic3\", \"Topic3\", \"Topic3\", \"Topic3\", \"Topic3\", \"Topic3\", \"Topic3\", \"Topic3\", \"Topic3\", \"Topic3\", \"Topic3\", \"Topic3\", \"Topic3\", \"Topic4\", \"Topic4\", \"Topic4\", \"Topic4\", \"Topic4\", \"Topic4\", \"Topic4\", \"Topic4\", \"Topic4\", \"Topic4\", \"Topic4\", \"Topic4\", \"Topic4\", \"Topic4\", \"Topic4\", \"Topic4\", \"Topic4\", \"Topic4\", \"Topic4\", \"Topic4\", \"Topic4\", \"Topic4\", \"Topic4\", \"Topic4\", \"Topic4\", \"Topic4\", \"Topic4\", \"Topic4\", \"Topic4\", \"Topic4\", \"Topic4\", \"Topic5\", \"Topic5\", \"Topic5\", \"Topic5\", \"Topic5\", \"Topic5\", \"Topic5\", \"Topic5\", \"Topic5\", \"Topic5\", \"Topic5\", \"Topic5\", \"Topic5\", \"Topic5\", \"Topic5\", \"Topic5\", \"Topic5\", \"Topic5\", \"Topic5\", \"Topic5\", \"Topic5\", \"Topic5\", \"Topic5\", \"Topic5\", \"Topic5\", \"Topic5\", \"Topic5\", \"Topic5\", \"Topic5\", \"Topic5\", \"Topic5\", \"Topic5\", \"Topic5\", \"Topic6\", \"Topic6\", \"Topic6\", \"Topic6\", \"Topic6\", \"Topic6\", \"Topic6\", \"Topic6\", \"Topic6\", \"Topic6\", \"Topic6\", \"Topic6\", \"Topic6\", \"Topic6\", \"Topic6\", \"Topic6\", \"Topic6\", \"Topic6\", \"Topic6\", \"Topic6\", \"Topic6\", \"Topic6\", \"Topic6\", \"Topic6\", \"Topic6\", \"Topic6\", \"Topic6\", \"Topic6\", \"Topic6\", \"Topic6\", \"Topic6\", \"Topic6\", \"Topic7\", \"Topic7\", \"Topic7\", \"Topic7\", \"Topic7\", \"Topic7\", \"Topic7\", \"Topic7\", \"Topic7\", \"Topic7\", \"Topic7\", \"Topic7\", \"Topic7\", \"Topic7\", \"Topic7\", \"Topic7\", \"Topic7\", \"Topic7\", \"Topic7\", \"Topic7\", \"Topic7\", \"Topic7\", \"Topic7\", \"Topic7\", \"Topic7\", \"Topic7\", \"Topic7\", \"Topic7\", \"Topic7\", \"Topic7\", \"Topic7\", \"Topic7\", \"Topic8\", \"Topic8\", \"Topic8\", \"Topic8\", \"Topic8\", \"Topic8\", \"Topic8\", \"Topic8\", \"Topic8\", \"Topic8\", \"Topic8\", \"Topic8\", \"Topic8\", \"Topic8\", \"Topic8\", \"Topic8\", \"Topic8\", \"Topic8\", \"Topic8\", \"Topic8\", \"Topic8\", \"Topic8\", \"Topic8\", \"Topic8\", \"Topic8\", \"Topic8\", \"Topic8\", \"Topic8\", \"Topic8\", \"Topic8\", \"Topic8\", \"Topic8\", \"Topic9\", \"Topic9\", \"Topic9\", \"Topic9\", \"Topic9\", \"Topic9\", \"Topic9\", \"Topic9\", \"Topic9\", \"Topic9\", \"Topic9\", \"Topic9\", \"Topic9\", \"Topic9\", \"Topic9\", \"Topic9\", \"Topic9\", \"Topic9\", \"Topic9\", \"Topic9\", \"Topic9\", \"Topic9\", \"Topic9\", \"Topic9\", \"Topic9\", \"Topic9\", \"Topic9\", \"Topic9\", \"Topic9\", \"Topic9\", \"Topic9\", \"Topic9\", \"Topic9\"], \"logprob\": [30.0, 29.0, 28.0, 27.0, 26.0, 25.0, 24.0, 23.0, 22.0, 21.0, 20.0, 19.0, 18.0, 17.0, 16.0, 15.0, 14.0, 13.0, 12.0, 11.0, 10.0, 9.0, 8.0, 7.0, 6.0, 5.0, 4.0, 3.0, 2.0, 1.0, -2.4882, -3.5852, -3.6173, -3.8829, -3.9525, -4.1555, -4.2327, -4.2535, -4.3211, -4.3486, -4.4837, -4.4887, -4.6124, -4.664, -4.6797, -4.6824, -4.6862, -4.6887, -4.79, -4.8293, -4.8822, -4.8919, -4.9216, -4.9528, -4.9565, -5.0336, -5.0449, -5.0804, -5.1291, -5.1288, -2.8656, -3.055, -4.5765, -3.7874, -4.7382, -2.0334, -3.1081, -3.1171, -3.1983, -3.9433, -3.9435, -4.0324, -4.1517, -4.1984, -4.2596, -3.0094, -4.3076, -4.4611, -4.4671, -4.4866, -4.5214, -4.6014, -4.6639, -4.72, -4.7303, -4.7444, -4.8009, -4.8449, -4.9747, -5.1178, -5.1502, -5.1712, -5.2091, -5.2514, -5.2634, -3.057, -4.1576, -4.6096, -4.4757, -2.5, -3.2868, -3.2991, -3.4869, -3.5068, -3.6697, -3.7545, -3.8598, -3.9156, -4.0221, -4.0659, -4.1819, -4.189, -4.3328, -4.333, -4.3384, -4.3597, -4.3979, -4.5427, -4.71, -4.7249, -4.7997, -4.8211, -4.8492, -4.8554, -4.9585, -4.9737, -5.0246, -5.0389, -5.1314, -4.4647, -4.4976, -4.9652, -2.9181, -3.0611, -3.2085, -3.2748, -3.3804, -3.6846, -3.8197, -3.8443, -4.0088, -4.0661, -4.2204, -4.311, -4.3131, -4.3301, -4.5885, -4.6273, -4.6988, -4.796, -4.984, -5.0186, -5.0236, -5.0224, -5.0707, -5.0883, -5.0891, -5.0935, -5.1624, -5.2005, -5.2597, -5.2692, -5.1747, -2.6576, -3.175, -3.2441, -3.6389, -3.7343, -4.09, -4.1245, -4.1752, -4.1855, -4.2199, -4.3319, -4.3343, -4.3692, -4.5194, -4.5265, -4.528, -4.6669, -4.6849, -4.7108, -4.7549, -4.7969, -4.8256, -4.8417, -4.8603, -4.9026, -4.9273, -4.94, -4.9626, -4.9946, -4.9961, -3.434, -4.2384, -3.9581, -3.3895, -3.6398, -3.6743, -3.7519, -3.7612, -3.9031, -3.909, -3.9589, -4.0109, -4.0147, -4.1672, -4.2469, -4.2485, -4.2823, -4.2785, -4.3032, -4.3227, -4.3457, -4.3909, -4.396, -4.4333, -4.5141, -4.5153, -4.5341, -4.5473, -4.598, -4.6022, -4.671, -4.6939, -4.7664, -4.0877, -4.0613, -2.6935, -2.8532, -2.9367, -3.4122, -3.633, -3.987, -4.0184, -4.1561, -4.1806, -4.2102, -4.4199, -4.4906, -4.5771, -4.657, -4.7061, -4.8019, -4.853, -4.8846, -4.8846, -4.8855, -4.8855, -4.8855, -4.8855, -4.8855, -4.8964, -4.935, -4.95, -4.9771, -4.9777, -5.0379, -3.7085, -3.5816, -3.1237, -3.256, -3.3177, -3.3584, -3.5079, -3.5692, -3.6683, -3.6721, -3.8307, -3.9791, -4.0225, -4.0604, -4.085, -4.2088, -4.3157, -4.3851, -4.4177, -4.486, -4.5821, -4.5874, -4.6381, -4.6381, -4.8912, -4.9489, -4.9545, -4.9569, -5.0225, -5.0646, -5.0929, -5.1243, -3.9857, -4.7357, -3.3547, -3.4442, -3.4757, -3.5914, -3.7193, -3.8932, -3.9713, -4.0044, -4.0567, -4.276, -4.2784, -4.3911, -4.4486, -4.4581, -4.54, -4.7837, -4.7837, -4.7837, -4.7837, -4.7837, -4.7837, -4.8014, -4.8528, -4.8812, -4.9024, -5.0582, -5.073, -5.1323, -5.171, -5.2127, -2.5935, -3.7133, -4.275], \"loglift\": [30.0, 29.0, 28.0, 27.0, 26.0, 25.0, 24.0, 23.0, 22.0, 21.0, 20.0, 19.0, 18.0, 17.0, 16.0, 15.0, 14.0, 13.0, 12.0, 11.0, 10.0, 9.0, 8.0, 7.0, 6.0, 5.0, 4.0, 3.0, 2.0, 1.0, 1.2629, 1.2591, 1.259, 1.2572, 1.2566, 1.2548, 1.254, 1.2538, 1.253, 1.2527, 1.2509, 1.2509, 1.249, 1.2482, 1.2479, 1.2479, 1.2478, 1.2478, 1.246, 1.2452, 1.2442, 1.244, 1.2434, 1.2427, 1.2426, 1.2408, 1.2406, 1.2397, 1.2385, 1.2385, 1.2169, 1.0478, 1.1007, 0.5366, 0.907, 1.9297, 1.9251, 1.925, 1.9244, 1.916, 1.916, 1.9145, 1.9123, 1.9113, 1.91, 1.9099, 1.9089, 1.905, 1.9048, 1.9045, 1.9035, 1.9012, 1.8992, 1.8973, 1.897, 1.8965, 1.8944, 1.8928, 1.8874, 1.8808, 1.8791, 1.878, 1.876, 1.8736, 1.8729, 1.2671, 1.4812, 1.2593, -0.3729, 2.1102, 2.1046, 2.1045, 2.1024, 2.1021, 2.0999, 2.0986, 2.0968, 2.0957, 2.0936, 2.0927, 2.09, 2.0898, 2.086, 2.0859, 2.0858, 2.0851, 2.0839, 2.0794, 2.073, 2.0724, 2.0691, 2.0679, 2.0669, 2.0666, 2.0615, 2.0607, 2.0577, 2.0571, 2.0518, 2.0517, 1.3712, 1.5805, 2.2171, 2.2159, 2.2145, 2.2138, 2.2125, 2.2082, 2.2058, 2.2053, 2.2018, 2.2005, 2.1965, 2.1938, 2.1938, 2.1932, 2.184, 2.1825, 2.1794, 2.175, 2.1648, 2.1627, 2.1626, 2.1626, 2.1593, 2.1586, 2.1585, 2.1582, 2.1536, 2.1509, 2.1466, 2.1459, 1.5125, 2.438, 2.433, 2.4321, 2.4256, 2.4236, 2.4144, 2.4133, 2.4116, 2.4113, 2.4101, 2.4059, 2.4055, 2.4045, 2.398, 2.3977, 2.3976, 2.3907, 2.3894, 2.3881, 2.3858, 2.3833, 2.3815, 2.3804, 2.3793, 2.3765, 2.3749, 2.374, 2.3723, 2.3701, 2.37, 2.2439, 1.4004, 0.8855, 2.4535, 2.449, 2.4483, 2.4466, 2.4464, 2.443, 2.4428, 2.4414, 2.4401, 2.4399, 2.4352, 2.4324, 2.4323, 2.4311, 2.431, 2.4299, 2.4295, 2.4287, 2.4268, 2.4266, 2.425, 2.4214, 2.4213, 2.4204, 2.4198, 2.4172, 2.4171, 2.4134, 2.4121, 2.408, 1.6821, 0.0414, 2.6824, 2.6807, 2.6797, 2.672, 2.667, 2.6564, 2.6553, 2.6496, 2.6488, 2.6476, 2.6373, 2.6335, 2.6283, 2.6231, 2.6197, 2.6128, 2.6085, 2.6057, 2.6057, 2.6053, 2.6053, 2.6053, 2.6053, 2.6053, 2.605, 2.6019, 2.6004, 2.5982, 2.5981, 2.5925, 2.0614, 1.262, 2.7457, 2.7433, 2.7423, 2.7415, 2.7383, 2.7368, 2.7342, 2.7341, 2.7294, 2.7243, 2.7227, 2.7212, 2.7203, 2.7149, 2.7097, 2.7061, 2.7043, 2.7004, 2.6941, 2.694, 2.6902, 2.6902, 2.671, 2.6659, 2.6654, 2.6652, 2.6588, 2.6547, 2.6516, 2.6485, 0.8579, 1.8101, 3.1401, 3.1372, 3.1361, 3.1318, 3.1265, 3.1182, 3.114, 3.1121, 3.1089, 3.0941, 3.0934, 3.0853, 3.0803, 3.0786, 3.0706, 3.0458, 3.0458, 3.0458, 3.0458, 3.0458, 3.0458, 3.0441, 3.0378, 3.0342, 3.0315, 3.0098, 3.0075, 2.9983, 2.992, 2.9851, 2.2501, 1.9319, 1.4029]}, \"token.table\": {\"Topic\": [7, 6, 2, 9, 1, 1, 4, 1, 9, 7, 2, 5, 2, 9, 1, 5, 9, 9, 3, 3, 3, 8, 2, 8, 2, 8, 7, 8, 8, 8, 2, 5, 3, 5, 1, 9, 8, 6, 7, 3, 1, 7, 4, 5, 8, 6, 5, 2, 7, 9, 5, 5, 2, 5, 7, 8, 9, 4, 4, 7, 5, 9, 1, 2, 5, 6, 3, 7, 6, 2, 9, 6, 7, 3, 2, 9, 7, 8, 5, 5, 1, 6, 1, 6, 8, 2, 8, 5, 1, 6, 4, 5, 1, 3, 7, 5, 1, 3, 7, 7, 1, 6, 7, 8, 6, 8, 4, 2, 8, 2, 7, 9, 2, 6, 1, 4, 2, 4, 4, 6, 7, 2, 2, 9, 1, 3, 1, 1, 6, 5, 1, 8, 7, 7, 8, 5, 7, 5, 6, 3, 3, 9, 3, 8, 1, 1, 3, 2, 9, 8, 8, 9, 8, 3, 5, 6, 7, 2, 4, 4, 3, 9, 1, 2, 4, 1, 9, 7, 3, 9, 7, 5, 3, 3, 8, 5, 5, 4, 7, 1, 6, 7, 1, 1, 3, 6, 4, 4, 6, 5, 7, 2, 3, 4, 9, 2, 4, 9, 8, 3, 3, 2, 4, 9, 1, 4, 5, 5, 6, 5, 1, 6, 4, 1, 5, 6, 7, 1, 4, 2, 9, 6, 8, 6, 1, 2, 5, 2, 9, 4, 3, 3, 8, 7, 2, 7, 6, 9, 8, 5, 2, 5, 6, 4, 8, 1, 9, 5, 1, 1, 2, 8, 2, 3, 5, 9, 8, 6, 4, 3, 3, 4, 7, 9, 9, 4, 4, 1, 6, 4, 4, 8, 7, 3, 3, 7, 6, 3, 8, 2, 3, 8, 3, 1, 6, 6, 9, 2, 6, 5, 4, 5, 3, 6, 9, 4, 4, 1, 2, 9, 9, 1], \"Freq\": [0.9438428861608168, 0.9433876353646773, 0.944090156048763, 0.828122780314296, 0.9884334068818267, 0.9651761368044879, 0.9248746732854837, 0.9951502450369394, 0.9801802806032447, 0.9519212773449438, 0.9855876456917574, 0.9339420895816951, 0.9763800784217377, 0.8515576863603369, 0.959723849772002, 0.8089884284583265, 0.17335466324106996, 0.9415116752847543, 0.9306355620494771, 0.9538880012909657, 0.9956043545264337, 0.969344232879414, 0.9583830586198497, 0.9874279359453608, 0.9985213129005761, 0.8874603831098874, 0.8750645635717531, 0.9400690818809302, 0.9421357871693906, 0.9520970982294027, 0.9638798670145732, 0.9878813507777069, 0.9871484411765288, 0.9390306876061008, 0.98636835409973, 0.9379778400771366, 0.966869288859322, 0.972650696638624, 0.9384844363527928, 0.9926743521061668, 0.9833495964297199, 0.9007092027194081, 0.9852232840272221, 0.9089991758015601, 0.9879183428661676, 0.9709882872211154, 0.977489285932191, 0.992945671525605, 0.8990733582767472, 0.9289796371041966, 0.9483463708530002, 0.9184154984679476, 0.9108845539162037, 0.20907739900974076, 0.24252978285129928, 0.15053572728701334, 0.4014286060987023, 0.9093407751238648, 0.9562933308204007, 0.9180732727807422, 0.9552389544738662, 0.9508248911165874, 0.8053394699211514, 0.09967072647539002, 0.003986829059015601, 0.08771023929834322, 0.986828832497359, 0.9500156732084107, 0.9640791616294588, 0.9456757965515187, 0.9861330091344609, 0.9665947891668321, 0.865270955736047, 0.9721669699657471, 0.9902761704938736, 0.9314452232649143, 0.9443894193870623, 0.9635600951303741, 0.9557770230250863, 0.9182113954821566, 0.9731344402935821, 0.981440092145504, 0.9812550547718742, 0.9768758471721908, 0.9389344039104395, 0.9449583806080472, 0.9127458153804362, 0.9450588731506281, 0.9937026033237641, 0.9405951362239193, 0.9816051278022839, 0.9649501356759335, 0.9874977722293096, 0.9933612727434472, 0.9543987474481669, 0.9560431135197868, 0.9718495039069165, 0.9897508433839729, 0.9831505338225383, 0.9170571764496551, 0.9898915133227068, 0.9788305172578852, 0.9816494035581118, 0.9524014682276898, 0.9406218729404467, 0.9353512125544876, 0.97076970363639, 0.9950264780737337, 0.8568186850670502, 0.9917976905202694, 0.9443894193870623, 0.828122780314296, 0.9742842145180457, 0.018042300268852698, 0.991690832526956, 0.929378512817342, 0.9906631503884864, 0.9776598498836623, 0.9963066524148867, 0.9437545054786937, 0.9760366320664828, 0.9788789984018232, 0.9671873002479199, 0.8408850761654393, 0.9793257764438976, 0.9656088403732179, 0.9919881190980214, 0.9890718165657434, 0.9587375016348386, 0.9022687570116122, 0.9953630326326931, 0.9795894785709119, 0.9443894193870623, 0.9443894193870623, 0.9029859568017492, 0.936532191008386, 0.9962006783548395, 0.979599345586609, 0.9877097597972, 0.9356532488291894, 0.9699255102290776, 0.94317540784429, 0.9750306231428503, 0.8900329991666323, 0.9743860649813996, 0.04455004219504728, 0.935550886095993, 0.9443155640910692, 0.9192646173735075, 0.9576908396884984, 0.9541435103351812, 0.9442412379395693, 0.9746072161048293, 0.9505655876072057, 0.957273828512188, 0.9768834844903532, 0.9561545877695494, 0.9893807476311466, 0.8755010309017848, 0.9932825167744976, 0.9835690727872394, 0.930766428024411, 0.9896726426742275, 0.9108679548452269, 0.8919575789405946, 0.7084218243929884, 0.2982828734286267, 0.9969610957929254, 0.9415171220245185, 0.828122780314296, 0.9443894193870623, 0.9684046645485104, 0.9768559486021643, 0.9408127409539051, 0.9773489045482682, 0.8902389898164061, 0.9923252890490606, 0.9688633648114038, 0.9748560845669312, 0.9696656475454357, 0.9917350027216306, 0.9401197483936584, 0.9729244023854766, 0.8469038678347979, 0.13473470624644512, 0.9632985221023231, 0.98689054103305, 0.9881837075260094, 0.9463159868450439, 0.9899011787943087, 0.968781253053154, 0.5129178299717465, 0.4662889363379513, 0.9559226179095576, 0.8414594072299576, 0.993129654407127, 0.9783905799908211, 0.8952702413526156, 0.9860173523414354, 0.9545059065725664, 0.9301613367902936, 0.9824473979171058, 0.9679422046003979, 0.828122780314296, 0.953225892203491, 0.015626653970549034, 0.03125330794109807, 0.9378832542967706, 0.9765244189434619, 0.9777275009379518, 0.9594419413406033, 0.9451975723692524, 0.9574650921166628, 0.9959865222971485, 0.9517015086759191, 0.46456188518572744, 0.5279112331655994, 0.47564677909282044, 0.47564677909282044, 0.9666346436991552, 0.7181377585198755, 0.9537157167798542, 0.9828411308531451, 0.9483916251680298, 0.9901755056473515, 0.9802765259632367, 0.9469640194060484, 0.9590407675556382, 0.950057293584664, 0.9716356612251978, 0.9678806720203019, 0.9583005571591331, 0.9576863818606806, 0.9840097414328371, 0.9379874040846112, 0.8769744008101861, 0.9916409695069429, 0.9024459693503409, 0.9515100848151659, 0.965594947963659, 0.6298032809041729, 0.351948892269979, 0.9801833130649954, 0.9241993508509099, 0.9797475887575859, 0.9736765115971832, 0.828122780314296, 0.9148982066773879, 0.9985404172206936, 0.48251512908960686, 0.5123614257343249, 0.9372496101701608, 0.9757592681379684, 0.9697741654556294, 0.9377036802905845, 0.9591346699547674, 0.9029859568017492, 0.9634211082589972, 0.9844609008237134, 0.9700351414165014, 0.9439609550747651, 0.9527948536069076, 0.9610468516628233, 0.828122780314296, 0.8583277211112657, 0.9907895055899262, 0.9762278853132625, 0.9785259747234926, 0.9575811696639094, 0.9826627189284356, 0.9790281709369436, 0.9573776444198797, 0.9438428861608168, 0.9887567665153515, 0.9922280354877066, 0.8995866362773366, 0.9494088493277789, 0.59639746653649, 0.3670138255609169, 0.9825589318340362, 0.9834987493371559, 0.9498385507875755, 0.9545600565081209, 0.9883652002222624, 0.9825166556831493, 0.9681446351390032, 0.9247689547409929, 0.9586372064955596, 0.9725777044258773, 0.931361070169028, 0.9595885313259692, 0.9806413182497433, 0.9847872209418969, 0.9597524908003573, 0.8802964788912622, 0.9255532304328518, 0.9223837383992095, 0.9738589513716356, 0.9830194557579427, 0.9742634783070157, 0.8650810415956042, 0.9906408765105733], \"Term\": [\"acrylic\", \"advantage\", \"affiliate\", \"afterwards\", \"age\", \"also\", \"always\", \"amazing\", \"anti\", \"anti_agee\", \"antidote\", \"antidoteserum\", \"apply\", \"area\", \"aromatherapy\", \"aromessence\", \"aromessence\", \"arrange\", \"arrive\", \"autumn\", \"available\", \"back\", \"bblogger\", \"beautiful\", \"beauty\", \"believe\", \"biggleswade\", \"black_friday\", \"blackfriday\", \"blend\", \"bloggerstribe\", \"body\", \"book\", \"boost\", \"brand\", \"break\", \"bring\", \"browse\", \"buy\", \"call\", \"care\", \"case_misse\", \"check\", \"citrus\", \"cleanse\", \"cleanser\", \"cleansing\", \"collection\", \"colour\", \"combine\", \"comfort\", \"concentrate\", \"course\", \"cream\", \"cream\", \"cream\", \"cream\", \"create\", \"damage\", \"daughter\", \"day\", \"deal\", \"decl\", \"decl\", \"decl\", \"decl\", \"decleor\", \"decleorskincare\", \"delicious\", \"delivery\", \"discount\", \"discover\", \"dress\", \"dual\", \"dull\", \"eating\", \"editor\", \"elemis\", \"energise\", \"energy\", \"enjoy\", \"essential\", \"essential_oil\", \"essentialoil\", \"evening\", \"exfoliate\", \"exfoliation\", \"experience\", \"expert\", \"expertly\", \"extra\", \"fabulous\", \"face\", \"facial\", \"fave\", \"favourite\", \"feel\", \"femalebloggerrt\", \"find\", \"fine\", \"fionaskinexpert\", \"firm\", \"first\", \"flash\", \"formula\", \"formulation\", \"fragrancedirect\", \"free\", \"fresh\", \"full\", \"garbage\", \"gemstone\", \"gift\", \"gift\", \"give\", \"giveaway\", \"glow\", \"go\", \"good\", \"gorgeous\", \"gradual_glow\", \"great\", \"grimsargh_longridge\", \"guy\", \"hair\", \"happiness\", \"happy\", \"help\", \"hero\", \"high\", \"hope\", \"hour\", \"hull\", \"hulllive\", \"hydodenser\", \"hydra_floral\", \"hydrate\", \"hydration\", \"include\", \"incredible\", \"instead\", \"jewellery\", \"join\", \"kiss\", \"know\", \"last\", \"last\", \"late\", \"lavande_fine\", \"lavender\", \"leave\", \"lift\", \"light\", \"lindsay\", \"list\", \"little\", \"local\", \"look\", \"lotion\", \"love\", \"lovely\", \"main\", \"make\", \"makeup\", \"marketing\", \"mask\", \"mask\", \"massage\", \"maximum\", \"metal\", \"mile\", \"milk\", \"min\", \"minute\", \"miss\", \"moisturise\", \"moisturiser\", \"moment\", \"month\", \"morning\", \"mother\", \"nail\", \"natural\", \"need\", \"need\", \"neroli\", \"next\", \"night\", \"nourish\", \"offer\", \"online\", \"order\", \"order\", \"oreal\", \"overnight\", \"perfect\", \"person\", \"petal\", \"piece\", \"place\", \"post\", \"premium\", \"price\", \"primefifty\", \"product\", \"product\", \"product\", \"prolagene\", \"protect\", \"protective\", \"provide\", \"purchase\", \"quncovere\", \"qvcuk\", \"radiance\", \"range\", \"range\", \"really\", \"really\", \"receive\", \"reduce_appearance\", \"refresh\", \"relax\", \"relaxation\", \"result\", \"retailer\", \"retinol\", \"review\", \"rich\", \"rise\", \"room\", \"round\", \"sale\", \"salon\", \"sample\", \"sapphirehandba\", \"save\", \"seed\", \"sell\", \"sensitive\", \"serum\", \"serum\", \"set\", \"share\", \"shop\", \"show\", \"simulate\", \"size\", \"skin\", \"skincare\", \"skincare\", \"skinceutical\", \"smooth\", \"somerset\", \"soothe\", \"special\", \"spell\", \"spend\", \"start\", \"steph\", \"stock\", \"style\", \"supersize\", \"supplement\", \"sweet\", \"take\", \"texture\", \"thank\", \"therapist\", \"thing\", \"think\", \"thought\", \"thread\", \"time\", \"today\", \"tomorrow\", \"toner\", \"tonight\", \"tonight\", \"treat\", \"treatment\", \"try\", \"ultimate\", \"use\", \"value\", \"visit\", \"vitamin\", \"voucher\", \"want\", \"water\", \"website\", \"week\", \"weekend\", \"well\", \"wish\", \"wonder\", \"wonderful\", \"work\", \"worth\", \"wrinkle\", \"write\", \"year\"]}, \"R\": 30, \"lambda.step\": 0.01, \"plot.opts\": {\"xlab\": \"PC1\", \"ylab\": \"PC2\"}, \"topic.order\": [5, 9, 1, 8, 3, 6, 2, 7, 4]};\n",
       "\n",
       "function LDAvis_load_lib(url, callback){\n",
       "  var s = document.createElement('script');\n",
       "  s.src = url;\n",
       "  s.async = true;\n",
       "  s.onreadystatechange = s.onload = callback;\n",
       "  s.onerror = function(){console.warn(\"failed to load library \" + url);};\n",
       "  document.getElementsByTagName(\"head\")[0].appendChild(s);\n",
       "}\n",
       "\n",
       "if(typeof(LDAvis) !== \"undefined\"){\n",
       "   // already loaded: just create the visualization\n",
       "   !function(LDAvis){\n",
       "       new LDAvis(\"#\" + \"ldavis_el2041225636503619363391573726\", ldavis_el2041225636503619363391573726_data);\n",
       "   }(LDAvis);\n",
       "}else if(typeof define === \"function\" && define.amd){\n",
       "   // require.js is available: use it to load d3/LDAvis\n",
       "   require.config({paths: {d3: \"https://d3js.org/d3.v5\"}});\n",
       "   require([\"d3\"], function(d3){\n",
       "      window.d3 = d3;\n",
       "      LDAvis_load_lib(\"https://cdn.jsdelivr.net/gh/bmabey/pyLDAvis@3.3.1/pyLDAvis/js/ldavis.v3.0.0.js\", function(){\n",
       "        new LDAvis(\"#\" + \"ldavis_el2041225636503619363391573726\", ldavis_el2041225636503619363391573726_data);\n",
       "      });\n",
       "    });\n",
       "}else{\n",
       "    // require.js not available: dynamically load d3 & LDAvis\n",
       "    LDAvis_load_lib(\"https://d3js.org/d3.v5.js\", function(){\n",
       "         LDAvis_load_lib(\"https://cdn.jsdelivr.net/gh/bmabey/pyLDAvis@3.3.1/pyLDAvis/js/ldavis.v3.0.0.js\", function(){\n",
       "                 new LDAvis(\"#\" + \"ldavis_el2041225636503619363391573726\", ldavis_el2041225636503619363391573726_data);\n",
       "            })\n",
       "         });\n",
       "}\n",
       "</script>"
      ],
      "text/plain": [
       "PreparedData(topic_coordinates=              x         y  topics  cluster       Freq\n",
       "topic                                                \n",
       "4      0.318706  0.266600       1        1  28.228660\n",
       "8      0.001766 -0.410629       2        1  14.483946\n",
       "0     -0.396157 -0.103543       3        1  12.064819\n",
       "7     -0.253763  0.286314       4        1  10.808061\n",
       "2      0.207996 -0.214258       5        1   8.667487\n",
       "5      0.309715 -0.015634       6        1   8.464370\n",
       "1      0.021746  0.281829       7        1   6.771246\n",
       "6     -0.117420 -0.148003       8        1   6.317467\n",
       "3     -0.092589  0.057325       9        1   4.193942, topic_info=                  Term        Freq       Total Category  logprob  loglift\n",
       "23              beauty  288.000000  288.000000  Default  30.0000  30.0000\n",
       "81                skin  356.000000  356.000000  Default  29.0000  29.0000\n",
       "27              facial  151.000000  151.000000  Default  28.0000  28.0000\n",
       "30             product  255.000000  255.000000  Default  27.0000  27.0000\n",
       "71               offer   92.000000   92.000000  Default  26.0000  26.0000\n",
       "..                 ...         ...         ...      ...      ...      ...\n",
       "478            vitamin    3.614762    4.325405   Topic9  -5.1710   2.9920\n",
       "823  reduce_appearance    3.466966    4.177471   Topic9  -5.2127   2.9851\n",
       "5                cream   47.584588  119.572943   Topic9  -2.5935   2.2501\n",
       "62                mask   15.529010   53.640358   Topic9  -3.7133   1.9319\n",
       "132        aromessence    8.855488   51.916688   Topic9  -4.2750   1.4029\n",
       "\n",
       "[325 rows x 6 columns], token_table=      Topic      Freq        Term\n",
       "term                             \n",
       "2868      7  0.943843     acrylic\n",
       "809       6  0.943388   advantage\n",
       "547       2  0.944090   affiliate\n",
       "2844      9  0.828123  afterwards\n",
       "268       1  0.988433         age\n",
       "...     ...       ...         ...\n",
       "920       1  0.973859        work\n",
       "130       2  0.983019       worth\n",
       "185       9  0.974263     wrinkle\n",
       "840       9  0.865081       write\n",
       "103       1  0.990641        year\n",
       "\n",
       "[302 rows x 3 columns], R=30, lambda_step=0.01, plot_opts={'xlab': 'PC1', 'ylab': 'PC2'}, topic_order=[5, 9, 1, 8, 3, 6, 2, 7, 4])"
      ]
     },
     "execution_count": 29,
     "metadata": {},
     "output_type": "execute_result"
    }
   ],
   "source": [
    "import pyLDAvis\n",
    "import pyLDAvis.gensim_models\n",
    "\n",
    "pyLDAvis.enable_notebook()\n",
    "vis = pyLDAvis.gensim_models.prepare(lda_model, corpus, id2word, mds = \"mmds\", R=30)\n",
    "vis"
   ]
  },
  {
   "cell_type": "code",
   "execution_count": 30,
   "id": "dcc92e4f",
   "metadata": {},
   "outputs": [],
   "source": [
    "pyLDAvis.save_html(vis, 'lda_visualization_decleor.html')\n",
    "\n",
    "# Download the HTML file\n",
    "#from google.colab import files\n",
    "#files.download('lda_visualization.html')"
   ]
  },
  {
   "cell_type": "code",
   "execution_count": 31,
   "id": "5a52a9bb",
   "metadata": {},
   "outputs": [],
   "source": [
    "# Recommendations at the end of the presentation\n",
    "# esta informe se ha generado con un pipeline flexible..."
   ]
  },
  {
   "cell_type": "code",
   "execution_count": 32,
   "id": "9fa21327",
   "metadata": {},
   "outputs": [],
   "source": [
    "pyLDAvis.save_html(vis, 'lda_visualization_decleor.html')"
   ]
  },
  {
   "cell_type": "code",
   "execution_count": null,
   "id": "1e298d92",
   "metadata": {},
   "outputs": [],
   "source": []
  }
 ],
 "metadata": {
  "kernelspec": {
   "display_name": "Python 3 (ipykernel)",
   "language": "python",
   "name": "python3"
  },
  "language_info": {
   "codemirror_mode": {
    "name": "ipython",
    "version": 3
   },
   "file_extension": ".py",
   "mimetype": "text/x-python",
   "name": "python",
   "nbconvert_exporter": "python",
   "pygments_lexer": "ipython3",
   "version": "3.9.12"
  }
 },
 "nbformat": 4,
 "nbformat_minor": 5
}
